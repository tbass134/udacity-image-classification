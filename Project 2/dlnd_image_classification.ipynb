{
 "cells": [
  {
   "cell_type": "markdown",
   "metadata": {
    "collapsed": true
   },
   "source": [
    "# Image Classification\n",
    "In this project, you'll classify images from the [CIFAR-10 dataset](https://www.cs.toronto.edu/~kriz/cifar.html).  The dataset consists of airplanes, dogs, cats, and other objects. You'll preprocess the images, then train a convolutional neural network on all the samples. The images need to be normalized and the labels need to be one-hot encoded.  You'll get to apply what you learned and build a convolutional, max pooling, dropout, and fully connected layers.  At the end, you'll get to see your neural network's predictions on the sample images.\n",
    "## Get the Data\n",
    "Run the following cell to download the [CIFAR-10 dataset for python](https://www.cs.toronto.edu/~kriz/cifar-10-python.tar.gz)."
   ]
  },
  {
   "cell_type": "code",
   "execution_count": 159,
   "metadata": {},
   "outputs": [
    {
     "name": "stdout",
     "output_type": "stream",
     "text": [
      "All files found!\n"
     ]
    }
   ],
   "source": [
    "\"\"\"\n",
    "DON'T MODIFY ANYTHING IN THIS CELL THAT IS BELOW THIS LINE\n",
    "\"\"\"\n",
    "from urllib.request import urlretrieve\n",
    "from os.path import isfile, isdir\n",
    "from tqdm import tqdm\n",
    "import problem_unittests as tests\n",
    "import tarfile\n",
    "\n",
    "cifar10_dataset_folder_path = 'cifar-10-batches-py'\n",
    "\n",
    "# Use Floyd's cifar-10 dataset if present\n",
    "floyd_cifar10_location = '/input/cifar-10/python.tar.gz'\n",
    "if isfile(floyd_cifar10_location):\n",
    "    tar_gz_path = floyd_cifar10_location\n",
    "else:\n",
    "    tar_gz_path = 'cifar-10-python.tar.gz'\n",
    "\n",
    "class DLProgress(tqdm):\n",
    "    last_block = 0\n",
    "\n",
    "    def hook(self, block_num=1, block_size=1, total_size=None):\n",
    "        self.total = total_size\n",
    "        self.update((block_num - self.last_block) * block_size)\n",
    "        self.last_block = block_num\n",
    "\n",
    "if not isfile(tar_gz_path):\n",
    "    with DLProgress(unit='B', unit_scale=True, miniters=1, desc='CIFAR-10 Dataset') as pbar:\n",
    "        urlretrieve(\n",
    "            'https://www.cs.toronto.edu/~kriz/cifar-10-python.tar.gz',\n",
    "            tar_gz_path,\n",
    "            pbar.hook)\n",
    "\n",
    "if not isdir(cifar10_dataset_folder_path):\n",
    "    with tarfile.open(tar_gz_path) as tar:\n",
    "        tar.extractall()\n",
    "        tar.close()\n",
    "\n",
    "\n",
    "tests.test_folder_path(cifar10_dataset_folder_path)"
   ]
  },
  {
   "cell_type": "markdown",
   "metadata": {},
   "source": [
    "## Explore the Data\n",
    "The dataset is broken into batches to prevent your machine from running out of memory.  The CIFAR-10 dataset consists of 5 batches, named `data_batch_1`, `data_batch_2`, etc.. Each batch contains the labels and images that are one of the following:\n",
    "* airplane\n",
    "* automobile\n",
    "* bird\n",
    "* cat\n",
    "* deer\n",
    "* dog\n",
    "* frog\n",
    "* horse\n",
    "* ship\n",
    "* truck\n",
    "\n",
    "Understanding a dataset is part of making predictions on the data.  Play around with the code cell below by changing the `batch_id` and `sample_id`. The `batch_id` is the id for a batch (1-5). The `sample_id` is the id for a image and label pair in the batch.\n",
    "\n",
    "Ask yourself \"What are all possible labels?\", \"What is the range of values for the image data?\", \"Are the labels in order or random?\".  Answers to questions like these will help you preprocess the data and end up with better predictions."
   ]
  },
  {
   "cell_type": "code",
   "execution_count": 160,
   "metadata": {},
   "outputs": [
    {
     "name": "stdout",
     "output_type": "stream",
     "text": [
      "\n",
      "Stats of batch 2:\n",
      "Samples: 10000\n",
      "Label Counts: {0: 984, 1: 1007, 2: 1010, 3: 995, 4: 1010, 5: 988, 6: 1008, 7: 1026, 8: 987, 9: 985}\n",
      "First 20 Labels: [1, 6, 6, 8, 8, 3, 4, 6, 0, 6, 0, 3, 6, 6, 5, 4, 8, 3, 2, 6]\n",
      "\n",
      "Example of Image 100:\n",
      "Image - Min Value: 15 Max Value: 255\n",
      "Image - Shape: (32, 32, 3)\n",
      "Label - Label Id: 1 Name: automobile\n"
     ]
    },
    {
     "data": {
      "image/png": "[encoded data removed]",
      "text/plain": [
       "<matplotlib.figure.Figure at 0x11cf6b780>"
      ]
     },
     "metadata": {
      "image/png": {
       "height": 250,
       "width": 253
      }
     },
     "output_type": "display_data"
    }
   ],
   "source": [
    "%matplotlib inline\n",
    "%config InlineBackend.figure_format = 'retina'\n",
    "\n",
    "import helper\n",
    "import numpy as np\n",
    "\n",
    "# Explore the dataset\n",
    "batch_id = 2\n",
    "sample_id = 100\n",
    "helper.display_stats(cifar10_dataset_folder_path, batch_id, sample_id)"
   ]
  },
  {
   "cell_type": "markdown",
   "metadata": {},
   "source": [
    "## Implement Preprocess Functions\n",
    "### Normalize\n",
    "In the cell below, implement the `normalize` function to take in image data, `x`, and return it as a normalized Numpy array. The values should be in the range of 0 to 1, inclusive.  The return object should be the same shape as `x`."
   ]
  },
  {
   "cell_type": "code",
   "execution_count": 161,
   "metadata": {},
   "outputs": [
    {
     "name": "stdout",
     "output_type": "stream",
     "text": [
      "Tests Passed\n"
     ]
    }
   ],
   "source": [
    "def normalize(x):\n",
    "    \"\"\"\n",
    "    Normalize a list of sample image data in the range of 0 to 1\n",
    "    : x: List of image data.  The image shape is (32, 32, 3)\n",
    "    : return: Numpy array of normalize data\n",
    "    \"\"\"\n",
    "    # TODO: Implement Function\n",
    "    a = 0\n",
    "    b = 1\n",
    "    image_min = 0\n",
    "    image_max = 255\n",
    "    return a + ((x - image_min) * (b - a)) / (image_max - image_min)\n",
    "\n",
    "\n",
    "\"\"\"\n",
    "DON'T MODIFY ANYTHING IN THIS CELL THAT IS BELOW THIS LINE\n",
    "\"\"\"\n",
    "tests.test_normalize(normalize)"
   ]
  },
  {
   "cell_type": "markdown",
   "metadata": {},
   "source": [
    "### One-hot encode\n",
    "Just like the previous code cell, you'll be implementing a function for preprocessing.  This time, you'll implement the `one_hot_encode` function. The input, `x`, are a list of labels.  Implement the function to return the list of labels as One-Hot encoded Numpy array.  The possible values for labels are 0 to 9. The one-hot encoding function should return the same encoding for each value between each call to `one_hot_encode`.  Make sure to save the map of encodings outside the function.\n",
    "\n",
    "Hint: Don't reinvent the wheel."
   ]
  },
  {
   "cell_type": "code",
   "execution_count": 162,
   "metadata": {},
   "outputs": [
    {
     "name": "stdout",
     "output_type": "stream",
     "text": [
      "Tests Passed\n"
     ]
    }
   ],
   "source": [
    "def one_hot_encode(x):\n",
    "    \"\"\"\n",
    "    One hot encode a list of sample labels. Return a one-hot encoded vector for each label.\n",
    "    : x: List of sample Labels\n",
    "    : return: Numpy array of one-hot encoded labels\n",
    "    \"\"\"\n",
    "    # TODO: Implement Function\n",
    "    import numpy as np\n",
    "  \n",
    "    x = np.array(x)\n",
    "    one_hot_encode= np.zeros((x.shape[0], 10))\n",
    "    one_hot_encode[np.arange(x.shape[0]), x] = 1\n",
    "    return one_hot_encode\n",
    "\n",
    "\"\"\"\n",
    "DON'T MODIFY ANYTHING IN THIS CELL THAT IS BELOW THIS LINE\n",
    "\"\"\"\n",
    "tests.test_one_hot_encode(one_hot_encode)"
   ]
  },
  {
   "cell_type": "markdown",
   "metadata": {},
   "source": [
    "### Randomize Data\n",
    "As you saw from exploring the data above, the order of the samples are randomized.  It doesn't hurt to randomize it again, but you don't need to for this dataset."
   ]
  },
  {
   "cell_type": "markdown",
   "metadata": {},
   "source": [
    "## Preprocess all the data and save it\n",
    "Running the code cell below will preprocess all the CIFAR-10 data and save it to file. The code below also uses 10% of the training data for validation."
   ]
  },
  {
   "cell_type": "code",
   "execution_count": 163,
   "metadata": {
    "collapsed": true
   },
   "outputs": [],
   "source": [
    "\"\"\"\n",
    "DON'T MODIFY ANYTHING IN THIS CELL\n",
    "\"\"\"\n",
    "# Preprocess Training, Validation, and Testing Data\n",
    "helper.preprocess_and_save_data(cifar10_dataset_folder_path, normalize, one_hot_encode)"
   ]
  },
  {
   "cell_type": "markdown",
   "metadata": {},
   "source": [
    "# Check Point\n",
    "This is your first checkpoint.  If you ever decide to come back to this notebook or have to restart the notebook, you can start from here.  The preprocessed data has been saved to disk."
   ]
  },
  {
   "cell_type": "code",
   "execution_count": 164,
   "metadata": {
    "collapsed": true
   },
   "outputs": [],
   "source": [
    "\"\"\"\n",
    "DON'T MODIFY ANYTHING IN THIS CELL\n",
    "\"\"\"\n",
    "import pickle\n",
    "import problem_unittests as tests\n",
    "import helper\n",
    "\n",
    "# Load the Preprocessed Validation data\n",
    "valid_features, valid_labels = pickle.load(open('preprocess_validation.p', mode='rb'))"
   ]
  },
  {
   "cell_type": "markdown",
   "metadata": {},
   "source": [
    "## Build the network\n",
    "For the neural network, you'll build each layer into a function.  Most of the code you've seen has been outside of functions. To test your code more thoroughly, we require that you put each layer in a function.  This allows us to give you better feedback and test for simple mistakes using our unittests before you submit your project.\n",
    "\n",
    ">**Note:** If you're finding it hard to dedicate enough time for this course each week, we've provided a small shortcut to this part of the project. In the next couple of problems, you'll have the option to use classes from the [TensorFlow Layers](https://www.tensorflow.org/api_docs/python/tf/layers) or [TensorFlow Layers (contrib)](https://www.tensorflow.org/api_guides/python/contrib.layers) packages to build each layer, except the layers you build in the \"Convolutional and Max Pooling Layer\" section.  TF Layers is similar to Keras's and TFLearn's abstraction to layers, so it's easy to pickup.\n",
    "\n",
    ">However, if you would like to get the most out of this course, try to solve all the problems _without_ using anything from the TF Layers packages. You **can** still use classes from other packages that happen to have the same name as ones you find in TF Layers! For example, instead of using the TF Layers version of the `conv2d` class, [tf.layers.conv2d](https://www.tensorflow.org/api_docs/python/tf/layers/conv2d), you would want to use the TF Neural Network version of `conv2d`, [tf.nn.conv2d](https://www.tensorflow.org/api_docs/python/tf/nn/conv2d). \n",
    "\n",
    "Let's begin!\n",
    "\n",
    "### Input\n",
    "The neural network needs to read the image data, one-hot encoded labels, and dropout keep probability. Implement the following functions\n",
    "* Implement `neural_net_image_input`\n",
    " * Return a [TF Placeholder](https://www.tensorflow.org/api_docs/python/tf/placeholder)\n",
    " * Set the shape using `image_shape` with batch size set to `None`.\n",
    " * Name the TensorFlow placeholder \"x\" using the TensorFlow `name` parameter in the [TF Placeholder](https://www.tensorflow.org/api_docs/python/tf/placeholder).\n",
    "* Implement `neural_net_label_input`\n",
    " * Return a [TF Placeholder](https://www.tensorflow.org/api_docs/python/tf/placeholder)\n",
    " * Set the shape using `n_classes` with batch size set to `None`.\n",
    " * Name the TensorFlow placeholder \"y\" using the TensorFlow `name` parameter in the [TF Placeholder](https://www.tensorflow.org/api_docs/python/tf/placeholder).\n",
    "* Implement `neural_net_keep_prob_input`\n",
    " * Return a [TF Placeholder](https://www.tensorflow.org/api_docs/python/tf/placeholder) for dropout keep probability.\n",
    " * Name the TensorFlow placeholder \"keep_prob\" using the TensorFlow `name` parameter in the [TF Placeholder](https://www.tensorflow.org/api_docs/python/tf/placeholder).\n",
    "\n",
    "These names will be used at the end of the project to load your saved model.\n",
    "\n",
    "Note: `None` for shapes in TensorFlow allow for a dynamic size."
   ]
  },
  {
   "cell_type": "code",
   "execution_count": 165,
   "metadata": {
    "scrolled": true
   },
   "outputs": [
    {
     "name": "stdout",
     "output_type": "stream",
     "text": [
      "Image Input Tests Passed.\n",
      "Label Input Tests Passed.\n",
      "Keep Prob Tests Passed.\n"
     ]
    }
   ],
   "source": [
    "import tensorflow as tf\n",
    "\n",
    "def neural_net_image_input(image_shape):\n",
    "    \"\"\"\n",
    "    Return a Tensor for a bach of image input\n",
    "    : image_shape: Shape of the images\n",
    "    : return: Tensor for image input.\n",
    "    \"\"\"\n",
    "    # TODO: Implement Function\n",
    "    return tf.placeholder(tf.float32, shape=[None,*image_shape], name=\"x\")\n",
    "\n",
    "\n",
    "def neural_net_label_input(n_classes):\n",
    "    \"\"\"\n",
    "    Return a Tensor for a batch of label input\n",
    "    : n_classes: Number of classes\n",
    "    : return: Tensor for label input.\n",
    "    \"\"\"\n",
    "    # TODO: Implement Function\n",
    "    return tf.placeholder(tf.float32, shape=[None,n_classes], name=\"y\")\n",
    "\n",
    "\n",
    "def neural_net_keep_prob_input():\n",
    "    \"\"\"\n",
    "    Return a Tensor for keep probability\n",
    "    : return: Tensor for keep probability.\n",
    "    \"\"\"\n",
    "    # TODO: Implement Function\n",
    "    return tf.placeholder(tf.float32, name=\"keep_prob\")\n",
    "\n",
    "\n",
    "\"\"\"\n",
    "DON'T MODIFY ANYTHING IN THIS CELL THAT IS BELOW THIS LINE\n",
    "\"\"\"\n",
    "tf.reset_default_graph()\n",
    "tests.test_nn_image_inputs(neural_net_image_input)\n",
    "tests.test_nn_label_inputs(neural_net_label_input)\n",
    "tests.test_nn_keep_prob_inputs(neural_net_keep_prob_input)"
   ]
  },
  {
   "cell_type": "markdown",
   "metadata": {},
   "source": [
    "### Convolution and Max Pooling Layer\n",
    "Convolution layers have a lot of success with images. For this code cell, you should implement the function `conv2d_maxpool` to apply convolution then max pooling:\n",
    "* Create the weight and bias using `conv_ksize`, `conv_num_outputs` and the shape of `x_tensor`.\n",
    "* Apply a convolution to `x_tensor` using weight and `conv_strides`.\n",
    " * We recommend you use same padding, but you're welcome to use any padding.\n",
    "* Add bias\n",
    "* Add a nonlinear activation to the convolution.\n",
    "* Apply Max Pooling using `pool_ksize` and `pool_strides`.\n",
    " * We recommend you use same padding, but you're welcome to use any padding.\n",
    "\n",
    "**Note:** You **can't** use [TensorFlow Layers](https://www.tensorflow.org/api_docs/python/tf/layers) or [TensorFlow Layers (contrib)](https://www.tensorflow.org/api_guides/python/contrib.layers) for **this** layer, but you can still use TensorFlow's [Neural Network](https://www.tensorflow.org/api_docs/python/tf/nn) package. You may still use the shortcut option for all the **other** layers."
   ]
  },
  {
   "cell_type": "code",
   "execution_count": 166,
   "metadata": {},
   "outputs": [
    {
     "name": "stdout",
     "output_type": "stream",
     "text": [
      "conv_num_outputs 10\n",
      "conv_ksize (2, 2)\n",
      "conv_strides (4, 4)\n",
      "pool_ksize (2, 2)\n",
      "pool_strides (2, 2)\n",
      "Tests Passed\n"
     ]
    }
   ],
   "source": [
    "def conv2d_maxpool(x_tensor, conv_num_outputs, conv_ksize, conv_strides, pool_ksize, pool_strides):\n",
    "    \"\"\"\n",
    "    Apply convolution then max pooling to x_tensor\n",
    "    :param x_tensor: TensorFlow Tensor\n",
    "    :param conv_num_outputs: Number of outputs for the convolutional layer\n",
    "    :param conv_ksize: kernal size 2-D Tuple for the convolutional layer\n",
    "    :param conv_strides: Stride 2-D Tuple for convolution\n",
    "    :param pool_ksize: kernal size 2-D Tuple for pool\n",
    "    :param pool_strides: Stride 2-D Tuple for pool\n",
    "    : return: A tensor that represents convolution and max pooling of x_tensor\n",
    "    \"\"\"\n",
    "#     print(\"conv_num_outputs {}\".format(conv_num_outputs))\n",
    "#     print(\"conv_ksize {}\".format(conv_ksize))\n",
    "#     print(\"conv_strides {}\".format(conv_strides))\n",
    "#     print(\"pool_ksize {}\".format(pool_ksize))\n",
    "#     print(\"pool_strides {}\".format(pool_strides))\n",
    "\n",
    "    color_channels = x_tensor.shape[3].value\n",
    "    weights = tf.Variable(tf.truncated_normal([conv_ksize[0], conv_ksize[1], color_channels, conv_num_outputs]))\n",
    "    bias = tf.Variable(tf.zeros(conv_num_outputs))\n",
    "    \n",
    "    padding = 'SAME'\n",
    "    \n",
    "    conv_layer = tf.nn.conv2d(x_tensor, weights, strides= [1, conv_strides[0], conv_strides[1], 1], padding=padding)  \n",
    "    conv_layer = tf.nn.bias_add(conv_layer,bias)\n",
    "    conv_layer = tf.nn.relu(conv_layer)\n",
    "    conv_layer = tf.nn.max_pool(conv_layer, ksize= [1, pool_ksize[0], pool_ksize[1], 1], \n",
    "                              strides=[1, pool_strides[0], pool_strides[1], 1], padding=padding)\n",
    "\n",
    "    return conv_layer\n",
    "\n",
    "\n",
    "\"\"\"\n",
    "DON'T MODIFY ANYTHING IN THIS CELL THAT IS BELOW THIS LINE\n",
    "\"\"\"\n",
    "tests.test_con_pool(conv2d_maxpool)"
   ]
  },
  {
   "cell_type": "markdown",
   "metadata": {},
   "source": [
    "### Flatten Layer\n",
    "Implement the `flatten` function to change the dimension of `x_tensor` from a 4-D tensor to a 2-D tensor.  The output should be the shape (*Batch Size*, *Flattened Image Size*). Shortcut option: you can use classes from the [TensorFlow Layers](https://www.tensorflow.org/api_docs/python/tf/layers) or [TensorFlow Layers (contrib)](https://www.tensorflow.org/api_guides/python/contrib.layers) packages for this layer. For more of a challenge, only use other TensorFlow packages."
   ]
  },
  {
   "cell_type": "code",
   "execution_count": 167,
   "metadata": {},
   "outputs": [
    {
     "name": "stdout",
     "output_type": "stream",
     "text": [
      "Tests Passed\n"
     ]
    }
   ],
   "source": [
    "def flatten(x_tensor):\n",
    "    \"\"\"\n",
    "    Flatten x_tensor to (Batch Size, Flattened Image Size)\n",
    "    : x_tensor: A tensor of size (Batch Size, ...), where ... are the image dimensions.\n",
    "    : return: A tensor of size (Batch Size, Flattened Image Size).\n",
    "    \"\"\"\n",
    "    # TODO: Implement Function\n",
    "    return tf.contrib.layers.flatten(x_tensor)\n",
    "\n",
    "\n",
    "\"\"\"\n",
    "DON'T MODIFY ANYTHING IN THIS CELL THAT IS BELOW THIS LINE\n",
    "\"\"\"\n",
    "tests.test_flatten(flatten)"
   ]
  },
  {
   "cell_type": "markdown",
   "metadata": {},
   "source": [
    "### Fully-Connected Layer\n",
    "Implement the `fully_conn` function to apply a fully connected layer to `x_tensor` with the shape (*Batch Size*, *num_outputs*). Shortcut option: you can use classes from the [TensorFlow Layers](https://www.tensorflow.org/api_docs/python/tf/layers) or [TensorFlow Layers (contrib)](https://www.tensorflow.org/api_guides/python/contrib.layers) packages for this layer. For more of a challenge, only use other TensorFlow packages."
   ]
  },
  {
   "cell_type": "code",
   "execution_count": 168,
   "metadata": {},
   "outputs": [
    {
     "name": "stdout",
     "output_type": "stream",
     "text": [
      "Tests Passed\n"
     ]
    }
   ],
   "source": [
    "def fully_conn(x_tensor, num_outputs):\n",
    "    \"\"\"\n",
    "    Apply a fully connected layer to x_tensor using weight and bias\n",
    "    : x_tensor: A 2-D tensor where the first dimension is batch size.\n",
    "    : num_outputs: The number of output that the new tensor should be.\n",
    "    : return: A 2-D tensor where the second dimension is num_outputs.\n",
    "    \"\"\"\n",
    "    dimension = x_tensor.get_shape().as_list()\n",
    "    shape = list( (dimension[-1],) + (num_outputs,))\n",
    "    weights = tf.Variable(tf.truncated_normal(shape,0,0.1))\n",
    "    bias = tf.Variable(tf.zeros(num_outputs))\n",
    "    return tf.nn.relu(tf.add(tf.matmul(x_tensor,weights), bias))\n",
    "\n",
    "\n",
    "\n",
    "\"\"\"\n",
    "DON'T MODIFY ANYTHING IN THIS CELL THAT IS BELOW THIS LINE\n",
    "\"\"\"\n",
    "tests.test_fully_conn(fully_conn)"
   ]
  },
  {
   "cell_type": "markdown",
   "metadata": {},
   "source": [
    "### Output Layer\n",
    "Implement the `output` function to apply a fully connected layer to `x_tensor` with the shape (*Batch Size*, *num_outputs*). Shortcut option: you can use classes from the [TensorFlow Layers](https://www.tensorflow.org/api_docs/python/tf/layers) or [TensorFlow Layers (contrib)](https://www.tensorflow.org/api_guides/python/contrib.layers) packages for this layer. For more of a challenge, only use other TensorFlow packages.\n",
    "\n",
    "**Note:** Activation, softmax, or cross entropy should **not** be applied to this."
   ]
  },
  {
   "cell_type": "code",
   "execution_count": 169,
   "metadata": {},
   "outputs": [
    {
     "name": "stdout",
     "output_type": "stream",
     "text": [
      "Tests Passed\n"
     ]
    }
   ],
   "source": [
    "def output(x_tensor, num_outputs):\n",
    "    \"\"\"\n",
    "    Apply a output layer to x_tensor using weight and bias\n",
    "    : x_tensor: A 2-D tensor where the first dimension is batch size.\n",
    "    : num_outputs: The number of output that the new tensor should be.\n",
    "    : return: A 2-D tensor where the second dimension is num_outputs.\n",
    "    \"\"\"\n",
    "    dimension = x_tensor.get_shape().as_list()\n",
    "    shape = list( (dimension[-1],) + (num_outputs,))\n",
    "    weights = tf.Variable(tf.truncated_normal(shape,0,0.01))\n",
    "    bias = tf.Variable(tf.zeros(num_outputs))\n",
    "    return tf.add(tf.matmul(x_tensor,weights), bias)\n",
    "\n",
    "\n",
    "\"\"\"\n",
    "DON'T MODIFY ANYTHING IN THIS CELL THAT IS BELOW THIS LINE\n",
    "\"\"\"\n",
    "tests.test_output(output)"
   ]
  },
  {
   "cell_type": "markdown",
   "metadata": {},
   "source": [
    "### Create Convolutional Model\n",
    "Implement the function `conv_net` to create a convolutional neural network model. The function takes in a batch of images, `x`, and outputs logits.  Use the layers you created above to create this model:\n",
    "\n",
    "* Apply 1, 2, or 3 Convolution and Max Pool layers\n",
    "* Apply a Flatten Layer\n",
    "* Apply 1, 2, or 3 Fully Connected Layers\n",
    "* Apply an Output Layer\n",
    "* Return the output\n",
    "* Apply [TensorFlow's Dropout](https://www.tensorflow.org/api_docs/python/tf/nn/dropout) to one or more layers in the model using `keep_prob`. "
   ]
  },
  {
   "cell_type": "code",
   "execution_count": 170,
   "metadata": {},
   "outputs": [
    {
     "name": "stdout",
     "output_type": "stream",
     "text": [
      "conv_num_outputs 16\n",
      "conv_ksize (4, 4)\n",
      "conv_strides (1, 1)\n",
      "pool_ksize (8, 8)\n",
      "pool_strides (2, 2)\n",
      "conv_num_outputs 16\n",
      "conv_ksize (4, 4)\n",
      "conv_strides (1, 1)\n",
      "pool_ksize (8, 8)\n",
      "pool_strides (2, 2)\n",
      "Neural Network Built!\n"
     ]
    }
   ],
   "source": [
    "def conv_net(x, keep_prob):\n",
    "    \"\"\"\n",
    "    Create a convolutional neural network model\n",
    "    : x: Placeholder tensor that holds image data.\n",
    "    : keep_prob: Placeholder tensor that hold dropout keep probability.\n",
    "    : return: Tensor that represents logits\n",
    "    \"\"\"\n",
    "    # TODO: Apply 1, 2, or 3 Convolution and Max Pool layers\n",
    "    #    Play around with different number of outputs, kernel size and stride\n",
    "    # Function Definition from Above:\n",
    "    #    conv2d_maxpool(x_tensor, conv_num_outputs, conv_ksize, conv_strides, pool_ksize, pool_strides)\n",
    "    num_classes = 10\n",
    "    \n",
    "    conv_ksize = (4,4)\n",
    "    conv_strides = (1,1)\n",
    "    pool_ksize = (8,8)\n",
    "    pool_strides = (2,2)\n",
    "    \n",
    "    layer_1 = conv2d_maxpool(x, 16, conv_ksize, conv_strides, pool_ksize, pool_strides )\n",
    "#     layer_2 = conv2d_maxpool(layer_1, 32, conv_ksize, conv_strides, pool_ksize, pool_strides )\n",
    "#     layer_3 = conv2d_maxpool(layer_2, 64, conv_ksize, conv_strides, pool_ksize, pool_strides )\n",
    "    layer_1 = tf.nn.dropout(layer_1, keep_prob)\n",
    "\n",
    "\n",
    "\n",
    "    # TODO: Apply a Flatten Layer\n",
    "    flat_layer = flatten(layer_1)\n",
    "    \n",
    "    # TODO: Apply 1, 2, or 3 Fully Connected Layers\n",
    "    #    Play around with different number of outputs\n",
    "    # Function Definition from Above:\n",
    "    connected_layer_1 = fully_conn(flat_layer, 10)\n",
    "    connected_layer_1 = tf.nn.dropout(connected_layer_1, keep_prob)\n",
    "    \n",
    "#     connected_layer_2 = fully_conn(connected_layer_1, 32)\n",
    "#     connected_layer_2 = tf.nn.dropout(connected_layer_2, keep_prob)\n",
    "    \n",
    "#     connected_layer_3 = fully_conn(connected_layer_2, 64)\n",
    "#     connected_layer_3 = tf.nn.dropout(connected_layer_3, keep_prob)\n",
    "\n",
    "\n",
    "\n",
    "    # TODO: Apply an Output Layer\n",
    "    tensor_output =  output(connected_layer_1, num_classes)\n",
    "    \n",
    "    \n",
    "    # TODO: return output\n",
    "    return tensor_output\n",
    "\n",
    "\n",
    "\"\"\"\n",
    "DON'T MODIFY ANYTHING IN THIS CELL THAT IS BELOW THIS LINE\n",
    "\"\"\"\n",
    "\n",
    "##############################\n",
    "## Build the Neural Network ##\n",
    "##############################\n",
    "\n",
    "# Remove previous weights, bias, inputs, etc..\n",
    "tf.reset_default_graph()\n",
    "\n",
    "# Inputs\n",
    "x = neural_net_image_input((32, 32, 3))\n",
    "y = neural_net_label_input(10)\n",
    "keep_prob = neural_net_keep_prob_input()\n",
    "\n",
    "# Model\n",
    "logits = conv_net(x, keep_prob)\n",
    "\n",
    "# Name logits Tensor, so that is can be loaded from disk after training\n",
    "logits = tf.identity(logits, name='logits')\n",
    "\n",
    "# Loss and Optimizer\n",
    "cost = tf.reduce_mean(tf.nn.softmax_cross_entropy_with_logits(logits=logits, labels=y))\n",
    "optimizer = tf.train.AdamOptimizer().minimize(cost)\n",
    "\n",
    "# Accuracy\n",
    "correct_pred = tf.equal(tf.argmax(logits, 1), tf.argmax(y, 1))\n",
    "accuracy = tf.reduce_mean(tf.cast(correct_pred, tf.float32), name='accuracy')\n",
    "\n",
    "\n",
    "tests.test_conv_net(conv_net)"
   ]
  },
  {
   "cell_type": "markdown",
   "metadata": {},
   "source": [
    "## Train the Neural Network\n",
    "### Single Optimization\n",
    "Implement the function `train_neural_network` to do a single optimization.  The optimization should use `optimizer` to optimize in `session` with a `feed_dict` of the following:\n",
    "* `x` for image input\n",
    "* `y` for labels\n",
    "* `keep_prob` for keep probability for dropout\n",
    "\n",
    "This function will be called for each batch, so `tf.global_variables_initializer()` has already been called.\n",
    "\n",
    "Note: Nothing needs to be returned. This function is only optimizing the neural network."
   ]
  },
  {
   "cell_type": "code",
   "execution_count": 171,
   "metadata": {},
   "outputs": [
    {
     "name": "stdout",
     "output_type": "stream",
     "text": [
      "Tests Passed\n"
     ]
    }
   ],
   "source": [
    "def train_neural_network(session, optimizer, keep_probability, feature_batch, label_batch):\n",
    "    \"\"\"\n",
    "    Optimize the session on a batch of images and labels\n",
    "    : session: Current TensorFlow session\n",
    "    : optimizer: TensorFlow optimizer function\n",
    "    : keep_probability: keep probability\n",
    "    : feature_batch: Batch of Numpy image data\n",
    "    : label_batch: Batch of Numpy label data\n",
    "    \"\"\"\n",
    "    # TODO: Implement Function\n",
    "    session.run(optimizer, feed_dict = {x:feature_batch, y:label_batch, keep_prob:keep_probability})\n",
    "        \n",
    "        \n",
    "        \n",
    "        \n",
    "\n",
    "\n",
    "\"\"\"\n",
    "DON'T MODIFY ANYTHING IN THIS CELL THAT IS BELOW THIS LINE\n",
    "\"\"\"\n",
    "tests.test_train_nn(train_neural_network)"
   ]
  },
  {
   "cell_type": "markdown",
   "metadata": {},
   "source": [
    "### Show Stats\n",
    "Implement the function `print_stats` to print loss and validation accuracy.  Use the global variables `valid_features` and `valid_labels` to calculate validation accuracy.  Use a keep probability of `1.0` to calculate the loss and validation accuracy."
   ]
  },
  {
   "cell_type": "code",
   "execution_count": 172,
   "metadata": {
    "collapsed": true
   },
   "outputs": [],
   "source": [
    "def print_stats(session, feature_batch, label_batch, cost, accuracy):\n",
    "    \"\"\"\n",
    "    Print information about loss and validation accuracy\n",
    "    : session: Current TensorFlow session\n",
    "    : feature_batch: Batch of Numpy image data\n",
    "    : label_batch: Batch of Numpy label data\n",
    "    : cost: TensorFlow cost function\n",
    "    : accuracy: TensorFlow accuracy function\n",
    "    \"\"\"\n",
    "    # TODO: Implement Function\n",
    "    loss = session.run(cost, feed_dict={x:feature_batch, y:label_batch, keep_prob:1.0})\n",
    "    valid_acc = sess.run(accuracy, feed_dict={\n",
    "                x: valid_features,\n",
    "                y: valid_labels,\n",
    "                keep_prob: 1.})\n",
    "    print('Loss: {:>10.4f} Validation Accuracy: {:.6f}'.format(\n",
    "                loss,\n",
    "                valid_acc))\n",
    "\n",
    "\n",
    "    "
   ]
  },
  {
   "cell_type": "markdown",
   "metadata": {},
   "source": [
    "### Hyperparameters\n",
    "Tune the following parameters:\n",
    "* Set `epochs` to the number of iterations until the network stops learning or start overfitting\n",
    "* Set `batch_size` to the highest number that your machine has memory for.  Most people set them to common sizes of memory:\n",
    " * 64\n",
    " * 128\n",
    " * 256\n",
    " * ...\n",
    "* Set `keep_probability` to the probability of keeping a node using dropout"
   ]
  },
  {
   "cell_type": "code",
   "execution_count": 173,
   "metadata": {
    "collapsed": true
   },
   "outputs": [],
   "source": [
    "# TODO: Tune Parameters\n",
    "epochs = 60\n",
    "batch_size = 256\n",
    "keep_probability = 0.75"
   ]
  },
  {
   "cell_type": "markdown",
   "metadata": {},
   "source": [
    "### Train on a Single CIFAR-10 Batch\n",
    "Instead of training the neural network on all the CIFAR-10 batches of data, let's use a single batch. This should save time while you iterate on the model to get a better accuracy.  Once the final validation accuracy is 50% or greater, run the model on all the data in the next section."
   ]
  },
  {
   "cell_type": "code",
   "execution_count": 174,
   "metadata": {},
   "outputs": [
    {
     "name": "stdout",
     "output_type": "stream",
     "text": [
      "Checking the Training on a Single Batch...\n",
      "Epoch  1, CIFAR-10 Batch 1:  Loss:     2.2483 Validation Accuracy: 0.190200\n",
      "Epoch  2, CIFAR-10 Batch 1:  Loss:     2.1439 Validation Accuracy: 0.229400\n",
      "Epoch  3, CIFAR-10 Batch 1:  Loss:     2.0586 Validation Accuracy: 0.278000\n",
      "Epoch  4, CIFAR-10 Batch 1:  Loss:     1.9938 Validation Accuracy: 0.276800\n",
      "Epoch  5, CIFAR-10 Batch 1:  Loss:     1.9600 Validation Accuracy: 0.300400\n",
      "Epoch  6, CIFAR-10 Batch 1:  Loss:     1.8910 Validation Accuracy: 0.307000\n",
      "Epoch  7, CIFAR-10 Batch 1:  Loss:     1.8662 Validation Accuracy: 0.330400\n",
      "Epoch  8, CIFAR-10 Batch 1:  Loss:     1.8176 Validation Accuracy: 0.347600\n",
      "Epoch  9, CIFAR-10 Batch 1:  Loss:     1.7833 Validation Accuracy: 0.346200\n",
      "Epoch 10, CIFAR-10 Batch 1:  Loss:     1.7794 Validation Accuracy: 0.354600\n",
      "Epoch 11, CIFAR-10 Batch 1:  Loss:     1.7166 Validation Accuracy: 0.349400\n",
      "Epoch 12, CIFAR-10 Batch 1:  Loss:     1.6792 Validation Accuracy: 0.356400\n",
      "Epoch 13, CIFAR-10 Batch 1:  Loss:     1.6711 Validation Accuracy: 0.358200\n",
      "Epoch 14, CIFAR-10 Batch 1:  Loss:     1.6425 Validation Accuracy: 0.361800\n",
      "Epoch 15, CIFAR-10 Batch 1:  Loss:     1.6419 Validation Accuracy: 0.362800\n",
      "Epoch 16, CIFAR-10 Batch 1:  Loss:     1.6246 Validation Accuracy: 0.368400\n",
      "Epoch 17, CIFAR-10 Batch 1:  Loss:     1.5854 Validation Accuracy: 0.368000\n",
      "Epoch 18, CIFAR-10 Batch 1:  Loss:     1.5627 Validation Accuracy: 0.373400\n",
      "Epoch 19, CIFAR-10 Batch 1:  Loss:     1.5633 Validation Accuracy: 0.376400\n",
      "Epoch 20, CIFAR-10 Batch 1:  Loss:     1.4880 Validation Accuracy: 0.388000\n",
      "Epoch 21, CIFAR-10 Batch 1:  Loss:     1.4531 Validation Accuracy: 0.399200\n",
      "Epoch 22, CIFAR-10 Batch 1:  Loss:     1.4035 Validation Accuracy: 0.402400\n",
      "Epoch 23, CIFAR-10 Batch 1:  Loss:     1.3465 Validation Accuracy: 0.421200\n",
      "Epoch 24, CIFAR-10 Batch 1:  Loss:     1.3651 Validation Accuracy: 0.409600\n",
      "Epoch 25, CIFAR-10 Batch 1:  Loss:     1.3309 Validation Accuracy: 0.421200\n",
      "Epoch 26, CIFAR-10 Batch 1:  Loss:     1.2768 Validation Accuracy: 0.430200\n",
      "Epoch 27, CIFAR-10 Batch 1:  Loss:     1.2435 Validation Accuracy: 0.435400\n",
      "Epoch 28, CIFAR-10 Batch 1:  Loss:     1.2321 Validation Accuracy: 0.440800\n",
      "Epoch 29, CIFAR-10 Batch 1:  Loss:     1.2254 Validation Accuracy: 0.441200\n",
      "Epoch 30, CIFAR-10 Batch 1:  Loss:     1.2086 Validation Accuracy: 0.443200\n",
      "Epoch 31, CIFAR-10 Batch 1:  Loss:     1.1832 Validation Accuracy: 0.445000\n",
      "Epoch 32, CIFAR-10 Batch 1:  Loss:     1.1683 Validation Accuracy: 0.447000\n",
      "Epoch 33, CIFAR-10 Batch 1:  Loss:     1.1266 Validation Accuracy: 0.451000\n",
      "Epoch 34, CIFAR-10 Batch 1:  Loss:     1.1368 Validation Accuracy: 0.456200\n",
      "Epoch 35, CIFAR-10 Batch 1:  Loss:     1.1157 Validation Accuracy: 0.462600\n",
      "Epoch 36, CIFAR-10 Batch 1:  Loss:     1.0731 Validation Accuracy: 0.463800\n",
      "Epoch 37, CIFAR-10 Batch 1:  Loss:     1.1037 Validation Accuracy: 0.459800\n",
      "Epoch 38, CIFAR-10 Batch 1:  Loss:     1.1113 Validation Accuracy: 0.452800\n",
      "Epoch 39, CIFAR-10 Batch 1:  Loss:     1.1266 Validation Accuracy: 0.455600\n",
      "Epoch 40, CIFAR-10 Batch 1:  Loss:     1.0892 Validation Accuracy: 0.461000\n",
      "Epoch 41, CIFAR-10 Batch 1:  Loss:     1.0679 Validation Accuracy: 0.458800\n",
      "Epoch 42, CIFAR-10 Batch 1:  Loss:     1.0684 Validation Accuracy: 0.465600\n",
      "Epoch 43, CIFAR-10 Batch 1:  Loss:     1.0710 Validation Accuracy: 0.464400\n",
      "Epoch 44, CIFAR-10 Batch 1:  Loss:     1.0456 Validation Accuracy: 0.472200\n",
      "Epoch 45, CIFAR-10 Batch 1:  Loss:     1.0512 Validation Accuracy: 0.464000\n",
      "Epoch 46, CIFAR-10 Batch 1:  Loss:     1.0373 Validation Accuracy: 0.458000\n",
      "Epoch 47, CIFAR-10 Batch 1:  Loss:     1.0201 Validation Accuracy: 0.463000\n",
      "Epoch 48, CIFAR-10 Batch 1:  Loss:     1.0223 Validation Accuracy: 0.468400\n",
      "Epoch 49, CIFAR-10 Batch 1:  Loss:     1.0196 Validation Accuracy: 0.453400\n",
      "Epoch 50, CIFAR-10 Batch 1:  Loss:     1.0216 Validation Accuracy: 0.464000\n",
      "Epoch 51, CIFAR-10 Batch 1:  Loss:     1.0154 Validation Accuracy: 0.461800\n",
      "Epoch 52, CIFAR-10 Batch 1:  Loss:     0.9916 Validation Accuracy: 0.466800\n",
      "Epoch 53, CIFAR-10 Batch 1:  Loss:     0.9851 Validation Accuracy: 0.471800\n",
      "Epoch 54, CIFAR-10 Batch 1:  Loss:     0.9718 Validation Accuracy: 0.469000\n",
      "Epoch 55, CIFAR-10 Batch 1:  Loss:     0.9955 Validation Accuracy: 0.471400\n",
      "Epoch 56, CIFAR-10 Batch 1:  Loss:     0.9896 Validation Accuracy: 0.464600\n",
      "Epoch 57, CIFAR-10 Batch 1:  Loss:     0.9677 Validation Accuracy: 0.473200\n",
      "Epoch 58, CIFAR-10 Batch 1:  Loss:     0.9723 Validation Accuracy: 0.474400\n",
      "Epoch 59, CIFAR-10 Batch 1:  Loss:     0.9855 Validation Accuracy: 0.468000\n",
      "Epoch 60, CIFAR-10 Batch 1:  Loss:     0.9660 Validation Accuracy: 0.467400\n"
     ]
    }
   ],
   "source": [
    "\"\"\"\n",
    "DON'T MODIFY ANYTHING IN THIS CELL\n",
    "\"\"\"\n",
    "print('Checking the Training on a Single Batch...')\n",
    "with tf.Session() as sess:\n",
    "    # Initializing the variables\n",
    "    sess.run(tf.global_variables_initializer())\n",
    "    \n",
    "    # Training cycle\n",
    "    for epoch in range(epochs):\n",
    "        batch_i = 1\n",
    "        for batch_features, batch_labels in helper.load_preprocess_training_batch(batch_i, batch_size):\n",
    "            train_neural_network(sess, optimizer, keep_probability, batch_features, batch_labels)\n",
    "        print('Epoch {:>2}, CIFAR-10 Batch {}:  '.format(epoch + 1, batch_i), end='')\n",
    "        print_stats(sess, batch_features, batch_labels, cost, accuracy)"
   ]
  },
  {
   "cell_type": "markdown",
   "metadata": {},
   "source": [
    "### Fully Train the Model\n",
    "Now that you got a good accuracy with a single CIFAR-10 batch, try it with all five batches."
   ]
  },
  {
   "cell_type": "code",
   "execution_count": 175,
   "metadata": {},
   "outputs": [
    {
     "name": "stdout",
     "output_type": "stream",
     "text": [
      "Training...\n",
      "Epoch  1, CIFAR-10 Batch 1:  Loss:     2.3025 Validation Accuracy: 0.105400\n",
      "Epoch  1, CIFAR-10 Batch 2:  Loss:     2.2275 Validation Accuracy: 0.144400\n",
      "Epoch  1, CIFAR-10 Batch 3:  Loss:     1.9361 Validation Accuracy: 0.227600\n",
      "Epoch  1, CIFAR-10 Batch 4:  Loss:     1.9601 Validation Accuracy: 0.251400\n",
      "Epoch  1, CIFAR-10 Batch 5:  Loss:     1.8927 Validation Accuracy: 0.247800\n",
      "Epoch  2, CIFAR-10 Batch 1:  Loss:     2.0848 Validation Accuracy: 0.268400\n",
      "Epoch  2, CIFAR-10 Batch 2:  Loss:     1.9439 Validation Accuracy: 0.267000\n",
      "Epoch  2, CIFAR-10 Batch 3:  Loss:     1.7805 Validation Accuracy: 0.268600\n",
      "Epoch  2, CIFAR-10 Batch 4:  Loss:     1.8528 Validation Accuracy: 0.258800\n",
      "Epoch  2, CIFAR-10 Batch 5:  Loss:     1.7801 Validation Accuracy: 0.276400\n",
      "Epoch  3, CIFAR-10 Batch 1:  Loss:     2.0181 Validation Accuracy: 0.281000\n",
      "Epoch  3, CIFAR-10 Batch 2:  Loss:     1.8885 Validation Accuracy: 0.271200\n",
      "Epoch  3, CIFAR-10 Batch 3:  Loss:     1.7056 Validation Accuracy: 0.279600\n",
      "Epoch  3, CIFAR-10 Batch 4:  Loss:     1.8009 Validation Accuracy: 0.281800\n",
      "Epoch  3, CIFAR-10 Batch 5:  Loss:     1.7459 Validation Accuracy: 0.275000\n",
      "Epoch  4, CIFAR-10 Batch 1:  Loss:     1.9691 Validation Accuracy: 0.286800\n",
      "Epoch  4, CIFAR-10 Batch 2:  Loss:     1.8557 Validation Accuracy: 0.281000\n",
      "Epoch  4, CIFAR-10 Batch 3:  Loss:     1.7001 Validation Accuracy: 0.282600\n",
      "Epoch  4, CIFAR-10 Batch 4:  Loss:     1.7659 Validation Accuracy: 0.293000\n",
      "Epoch  4, CIFAR-10 Batch 5:  Loss:     1.7088 Validation Accuracy: 0.290200\n",
      "Epoch  5, CIFAR-10 Batch 1:  Loss:     1.9471 Validation Accuracy: 0.299000\n",
      "Epoch  5, CIFAR-10 Batch 2:  Loss:     1.8368 Validation Accuracy: 0.285600\n",
      "Epoch  5, CIFAR-10 Batch 3:  Loss:     1.6799 Validation Accuracy: 0.295000\n",
      "Epoch  5, CIFAR-10 Batch 4:  Loss:     1.7548 Validation Accuracy: 0.288400\n",
      "Epoch  5, CIFAR-10 Batch 5:  Loss:     1.6865 Validation Accuracy: 0.291000\n",
      "Epoch  6, CIFAR-10 Batch 1:  Loss:     1.9056 Validation Accuracy: 0.301400\n",
      "Epoch  6, CIFAR-10 Batch 2:  Loss:     1.8246 Validation Accuracy: 0.287200\n",
      "Epoch  6, CIFAR-10 Batch 3:  Loss:     1.6102 Validation Accuracy: 0.299000\n",
      "Epoch  6, CIFAR-10 Batch 4:  Loss:     1.7078 Validation Accuracy: 0.318200\n",
      "Epoch  6, CIFAR-10 Batch 5:  Loss:     1.6948 Validation Accuracy: 0.304800\n",
      "Epoch  7, CIFAR-10 Batch 1:  Loss:     1.8197 Validation Accuracy: 0.306800\n",
      "Epoch  7, CIFAR-10 Batch 2:  Loss:     1.7770 Validation Accuracy: 0.326200\n",
      "Epoch  7, CIFAR-10 Batch 3:  Loss:     1.5516 Validation Accuracy: 0.329200\n",
      "Epoch  7, CIFAR-10 Batch 4:  Loss:     1.6398 Validation Accuracy: 0.335400\n",
      "Epoch  7, CIFAR-10 Batch 5:  Loss:     1.6580 Validation Accuracy: 0.325400\n",
      "Epoch  8, CIFAR-10 Batch 1:  Loss:     1.8006 Validation Accuracy: 0.343200\n",
      "Epoch  8, CIFAR-10 Batch 2:  Loss:     1.7455 Validation Accuracy: 0.342200\n",
      "Epoch  8, CIFAR-10 Batch 3:  Loss:     1.5294 Validation Accuracy: 0.345800\n",
      "Epoch  8, CIFAR-10 Batch 4:  Loss:     1.6199 Validation Accuracy: 0.352800\n",
      "Epoch  8, CIFAR-10 Batch 5:  Loss:     1.5931 Validation Accuracy: 0.353400\n",
      "Epoch  9, CIFAR-10 Batch 1:  Loss:     1.7605 Validation Accuracy: 0.364000\n",
      "Epoch  9, CIFAR-10 Batch 2:  Loss:     1.7076 Validation Accuracy: 0.365800\n",
      "Epoch  9, CIFAR-10 Batch 3:  Loss:     1.4701 Validation Accuracy: 0.379400\n",
      "Epoch  9, CIFAR-10 Batch 4:  Loss:     1.5951 Validation Accuracy: 0.375000\n",
      "Epoch  9, CIFAR-10 Batch 5:  Loss:     1.5817 Validation Accuracy: 0.375000\n",
      "Epoch 10, CIFAR-10 Batch 1:  Loss:     1.7540 Validation Accuracy: 0.377800\n",
      "Epoch 10, CIFAR-10 Batch 2:  Loss:     1.6789 Validation Accuracy: 0.384600\n",
      "Epoch 10, CIFAR-10 Batch 3:  Loss:     1.4277 Validation Accuracy: 0.386800\n",
      "Epoch 10, CIFAR-10 Batch 4:  Loss:     1.6002 Validation Accuracy: 0.393800\n",
      "Epoch 10, CIFAR-10 Batch 5:  Loss:     1.5676 Validation Accuracy: 0.393600\n",
      "Epoch 11, CIFAR-10 Batch 1:  Loss:     1.7106 Validation Accuracy: 0.394200\n",
      "Epoch 11, CIFAR-10 Batch 2:  Loss:     1.6676 Validation Accuracy: 0.393800\n",
      "Epoch 11, CIFAR-10 Batch 3:  Loss:     1.4384 Validation Accuracy: 0.391600\n",
      "Epoch 11, CIFAR-10 Batch 4:  Loss:     1.5902 Validation Accuracy: 0.395400\n",
      "Epoch 11, CIFAR-10 Batch 5:  Loss:     1.5406 Validation Accuracy: 0.398400\n",
      "Epoch 12, CIFAR-10 Batch 1:  Loss:     1.7230 Validation Accuracy: 0.404200\n",
      "Epoch 12, CIFAR-10 Batch 2:  Loss:     1.6320 Validation Accuracy: 0.397400\n",
      "Epoch 12, CIFAR-10 Batch 3:  Loss:     1.4044 Validation Accuracy: 0.404600\n",
      "Epoch 12, CIFAR-10 Batch 4:  Loss:     1.5763 Validation Accuracy: 0.406400\n",
      "Epoch 12, CIFAR-10 Batch 5:  Loss:     1.5268 Validation Accuracy: 0.412400\n",
      "Epoch 13, CIFAR-10 Batch 1:  Loss:     1.7259 Validation Accuracy: 0.414000\n",
      "Epoch 13, CIFAR-10 Batch 2:  Loss:     1.6241 Validation Accuracy: 0.402800\n",
      "Epoch 13, CIFAR-10 Batch 3:  Loss:     1.3909 Validation Accuracy: 0.416400\n",
      "Epoch 13, CIFAR-10 Batch 4:  Loss:     1.5938 Validation Accuracy: 0.418200\n",
      "Epoch 13, CIFAR-10 Batch 5:  Loss:     1.5135 Validation Accuracy: 0.419200\n",
      "Epoch 14, CIFAR-10 Batch 1:  Loss:     1.6911 Validation Accuracy: 0.420200\n",
      "Epoch 14, CIFAR-10 Batch 2:  Loss:     1.5639 Validation Accuracy: 0.418600\n",
      "Epoch 14, CIFAR-10 Batch 3:  Loss:     1.3653 Validation Accuracy: 0.429600\n",
      "Epoch 14, CIFAR-10 Batch 4:  Loss:     1.5513 Validation Accuracy: 0.428000\n",
      "Epoch 14, CIFAR-10 Batch 5:  Loss:     1.4984 Validation Accuracy: 0.419200\n",
      "Epoch 15, CIFAR-10 Batch 1:  Loss:     1.6950 Validation Accuracy: 0.423400\n",
      "Epoch 15, CIFAR-10 Batch 2:  Loss:     1.5543 Validation Accuracy: 0.416000\n",
      "Epoch 15, CIFAR-10 Batch 3:  Loss:     1.3441 Validation Accuracy: 0.426600\n",
      "Epoch 15, CIFAR-10 Batch 4:  Loss:     1.5714 Validation Accuracy: 0.426200\n",
      "Epoch 15, CIFAR-10 Batch 5:  Loss:     1.5098 Validation Accuracy: 0.416800\n",
      "Epoch 16, CIFAR-10 Batch 1:  Loss:     1.6809 Validation Accuracy: 0.434200\n",
      "Epoch 16, CIFAR-10 Batch 2:  Loss:     1.5757 Validation Accuracy: 0.405600\n",
      "Epoch 16, CIFAR-10 Batch 3:  Loss:     1.3553 Validation Accuracy: 0.429600\n",
      "Epoch 16, CIFAR-10 Batch 4:  Loss:     1.5661 Validation Accuracy: 0.436800\n",
      "Epoch 16, CIFAR-10 Batch 5:  Loss:     1.5041 Validation Accuracy: 0.425400\n",
      "Epoch 17, CIFAR-10 Batch 1:  Loss:     1.6684 Validation Accuracy: 0.421800\n",
      "Epoch 17, CIFAR-10 Batch 2:  Loss:     1.5299 Validation Accuracy: 0.435600\n",
      "Epoch 17, CIFAR-10 Batch 3:  Loss:     1.3366 Validation Accuracy: 0.441200\n",
      "Epoch 17, CIFAR-10 Batch 4:  Loss:     1.5422 Validation Accuracy: 0.434600\n",
      "Epoch 17, CIFAR-10 Batch 5:  Loss:     1.4900 Validation Accuracy: 0.427200\n",
      "Epoch 18, CIFAR-10 Batch 1:  Loss:     1.6540 Validation Accuracy: 0.425600\n",
      "Epoch 18, CIFAR-10 Batch 2:  Loss:     1.4895 Validation Accuracy: 0.425200\n",
      "Epoch 18, CIFAR-10 Batch 3:  Loss:     1.3540 Validation Accuracy: 0.434200\n",
      "Epoch 18, CIFAR-10 Batch 4:  Loss:     1.5334 Validation Accuracy: 0.432200\n",
      "Epoch 18, CIFAR-10 Batch 5:  Loss:     1.4845 Validation Accuracy: 0.441800\n",
      "Epoch 19, CIFAR-10 Batch 1:  Loss:     1.6946 Validation Accuracy: 0.428800\n",
      "Epoch 19, CIFAR-10 Batch 2:  Loss:     1.5108 Validation Accuracy: 0.438600\n",
      "Epoch 19, CIFAR-10 Batch 3:  Loss:     1.3582 Validation Accuracy: 0.437200\n",
      "Epoch 19, CIFAR-10 Batch 4:  Loss:     1.5297 Validation Accuracy: 0.439200\n",
      "Epoch 19, CIFAR-10 Batch 5:  Loss:     1.4541 Validation Accuracy: 0.442600\n",
      "Epoch 20, CIFAR-10 Batch 1:  Loss:     1.6664 Validation Accuracy: 0.431600\n",
      "Epoch 20, CIFAR-10 Batch 2:  Loss:     1.4842 Validation Accuracy: 0.438200\n",
      "Epoch 20, CIFAR-10 Batch 3:  Loss:     1.3079 Validation Accuracy: 0.441000\n",
      "Epoch 20, CIFAR-10 Batch 4:  Loss:     1.5312 Validation Accuracy: 0.443800\n",
      "Epoch 20, CIFAR-10 Batch 5:  Loss:     1.4343 Validation Accuracy: 0.447000\n",
      "Epoch 21, CIFAR-10 Batch 1:  Loss:     1.6156 Validation Accuracy: 0.461400\n",
      "Epoch 21, CIFAR-10 Batch 2:  Loss:     1.3997 Validation Accuracy: 0.446400\n",
      "Epoch 21, CIFAR-10 Batch 3:  Loss:     1.3140 Validation Accuracy: 0.462000\n",
      "Epoch 21, CIFAR-10 Batch 4:  Loss:     1.4744 Validation Accuracy: 0.457200\n",
      "Epoch 21, CIFAR-10 Batch 5:  Loss:     1.3996 Validation Accuracy: 0.464200\n",
      "Epoch 22, CIFAR-10 Batch 1:  Loss:     1.5657 Validation Accuracy: 0.465600\n",
      "Epoch 22, CIFAR-10 Batch 2:  Loss:     1.4004 Validation Accuracy: 0.466600\n",
      "Epoch 22, CIFAR-10 Batch 3:  Loss:     1.3184 Validation Accuracy: 0.475800\n"
     ]
    },
    {
     "name": "stdout",
     "output_type": "stream",
     "text": [
      "Epoch 22, CIFAR-10 Batch 4:  Loss:     1.4299 Validation Accuracy: 0.478000\n",
      "Epoch 22, CIFAR-10 Batch 5:  Loss:     1.3423 Validation Accuracy: 0.477400\n",
      "Epoch 23, CIFAR-10 Batch 1:  Loss:     1.5981 Validation Accuracy: 0.465200\n",
      "Epoch 23, CIFAR-10 Batch 2:  Loss:     1.4190 Validation Accuracy: 0.471200\n",
      "Epoch 23, CIFAR-10 Batch 3:  Loss:     1.2790 Validation Accuracy: 0.483600\n",
      "Epoch 23, CIFAR-10 Batch 4:  Loss:     1.3897 Validation Accuracy: 0.489600\n",
      "Epoch 23, CIFAR-10 Batch 5:  Loss:     1.3441 Validation Accuracy: 0.467200\n",
      "Epoch 24, CIFAR-10 Batch 1:  Loss:     1.5464 Validation Accuracy: 0.465600\n",
      "Epoch 24, CIFAR-10 Batch 2:  Loss:     1.3510 Validation Accuracy: 0.481000\n",
      "Epoch 24, CIFAR-10 Batch 3:  Loss:     1.2551 Validation Accuracy: 0.484800\n",
      "Epoch 24, CIFAR-10 Batch 4:  Loss:     1.4052 Validation Accuracy: 0.478400\n",
      "Epoch 24, CIFAR-10 Batch 5:  Loss:     1.3062 Validation Accuracy: 0.481600\n",
      "Epoch 25, CIFAR-10 Batch 1:  Loss:     1.5021 Validation Accuracy: 0.474400\n",
      "Epoch 25, CIFAR-10 Batch 2:  Loss:     1.3356 Validation Accuracy: 0.488400\n",
      "Epoch 25, CIFAR-10 Batch 3:  Loss:     1.2456 Validation Accuracy: 0.489800\n",
      "Epoch 25, CIFAR-10 Batch 4:  Loss:     1.3876 Validation Accuracy: 0.490400\n",
      "Epoch 25, CIFAR-10 Batch 5:  Loss:     1.3090 Validation Accuracy: 0.480400\n",
      "Epoch 26, CIFAR-10 Batch 1:  Loss:     1.5094 Validation Accuracy: 0.487200\n",
      "Epoch 26, CIFAR-10 Batch 2:  Loss:     1.3102 Validation Accuracy: 0.476400\n",
      "Epoch 26, CIFAR-10 Batch 3:  Loss:     1.2116 Validation Accuracy: 0.488000\n",
      "Epoch 26, CIFAR-10 Batch 4:  Loss:     1.3731 Validation Accuracy: 0.495600\n",
      "Epoch 26, CIFAR-10 Batch 5:  Loss:     1.2814 Validation Accuracy: 0.486200\n",
      "Epoch 27, CIFAR-10 Batch 1:  Loss:     1.4651 Validation Accuracy: 0.491400\n",
      "Epoch 27, CIFAR-10 Batch 2:  Loss:     1.2865 Validation Accuracy: 0.479400\n",
      "Epoch 27, CIFAR-10 Batch 3:  Loss:     1.1914 Validation Accuracy: 0.495800\n",
      "Epoch 27, CIFAR-10 Batch 4:  Loss:     1.3637 Validation Accuracy: 0.493000\n",
      "Epoch 27, CIFAR-10 Batch 5:  Loss:     1.2926 Validation Accuracy: 0.478600\n",
      "Epoch 28, CIFAR-10 Batch 1:  Loss:     1.4822 Validation Accuracy: 0.489000\n",
      "Epoch 28, CIFAR-10 Batch 2:  Loss:     1.3066 Validation Accuracy: 0.484600\n",
      "Epoch 28, CIFAR-10 Batch 3:  Loss:     1.2183 Validation Accuracy: 0.492800\n",
      "Epoch 28, CIFAR-10 Batch 4:  Loss:     1.3596 Validation Accuracy: 0.497800\n",
      "Epoch 28, CIFAR-10 Batch 5:  Loss:     1.2834 Validation Accuracy: 0.497200\n",
      "Epoch 29, CIFAR-10 Batch 1:  Loss:     1.4536 Validation Accuracy: 0.497800\n",
      "Epoch 29, CIFAR-10 Batch 2:  Loss:     1.2575 Validation Accuracy: 0.487000\n",
      "Epoch 29, CIFAR-10 Batch 3:  Loss:     1.1866 Validation Accuracy: 0.494000\n",
      "Epoch 29, CIFAR-10 Batch 4:  Loss:     1.3303 Validation Accuracy: 0.498600\n",
      "Epoch 29, CIFAR-10 Batch 5:  Loss:     1.2648 Validation Accuracy: 0.494800\n",
      "Epoch 30, CIFAR-10 Batch 1:  Loss:     1.4847 Validation Accuracy: 0.493400\n",
      "Epoch 30, CIFAR-10 Batch 2:  Loss:     1.2237 Validation Accuracy: 0.479400\n",
      "Epoch 30, CIFAR-10 Batch 3:  Loss:     1.1561 Validation Accuracy: 0.500400\n",
      "Epoch 30, CIFAR-10 Batch 4:  Loss:     1.3212 Validation Accuracy: 0.497600\n",
      "Epoch 30, CIFAR-10 Batch 5:  Loss:     1.2589 Validation Accuracy: 0.497800\n",
      "Epoch 31, CIFAR-10 Batch 1:  Loss:     1.4191 Validation Accuracy: 0.498000\n",
      "Epoch 31, CIFAR-10 Batch 2:  Loss:     1.2330 Validation Accuracy: 0.496200\n",
      "Epoch 31, CIFAR-10 Batch 3:  Loss:     1.2033 Validation Accuracy: 0.491600\n",
      "Epoch 31, CIFAR-10 Batch 4:  Loss:     1.3217 Validation Accuracy: 0.503800\n",
      "Epoch 31, CIFAR-10 Batch 5:  Loss:     1.2257 Validation Accuracy: 0.500600\n",
      "Epoch 32, CIFAR-10 Batch 1:  Loss:     1.4387 Validation Accuracy: 0.497600\n",
      "Epoch 32, CIFAR-10 Batch 2:  Loss:     1.1946 Validation Accuracy: 0.490800\n",
      "Epoch 32, CIFAR-10 Batch 3:  Loss:     1.1415 Validation Accuracy: 0.504800\n",
      "Epoch 32, CIFAR-10 Batch 4:  Loss:     1.3231 Validation Accuracy: 0.502400\n",
      "Epoch 32, CIFAR-10 Batch 5:  Loss:     1.2448 Validation Accuracy: 0.497000\n",
      "Epoch 33, CIFAR-10 Batch 1:  Loss:     1.4497 Validation Accuracy: 0.495600\n",
      "Epoch 33, CIFAR-10 Batch 2:  Loss:     1.2316 Validation Accuracy: 0.505200\n",
      "Epoch 33, CIFAR-10 Batch 3:  Loss:     1.1500 Validation Accuracy: 0.502000\n",
      "Epoch 33, CIFAR-10 Batch 4:  Loss:     1.3087 Validation Accuracy: 0.508600\n",
      "Epoch 33, CIFAR-10 Batch 5:  Loss:     1.2317 Validation Accuracy: 0.505000\n",
      "Epoch 34, CIFAR-10 Batch 1:  Loss:     1.4392 Validation Accuracy: 0.508000\n",
      "Epoch 34, CIFAR-10 Batch 2:  Loss:     1.1905 Validation Accuracy: 0.491800\n",
      "Epoch 34, CIFAR-10 Batch 3:  Loss:     1.1446 Validation Accuracy: 0.505400\n",
      "Epoch 34, CIFAR-10 Batch 4:  Loss:     1.2937 Validation Accuracy: 0.509200\n",
      "Epoch 34, CIFAR-10 Batch 5:  Loss:     1.2343 Validation Accuracy: 0.498600\n",
      "Epoch 35, CIFAR-10 Batch 1:  Loss:     1.4293 Validation Accuracy: 0.507000\n",
      "Epoch 35, CIFAR-10 Batch 2:  Loss:     1.1913 Validation Accuracy: 0.500200\n",
      "Epoch 35, CIFAR-10 Batch 3:  Loss:     1.1529 Validation Accuracy: 0.507600\n",
      "Epoch 35, CIFAR-10 Batch 4:  Loss:     1.3204 Validation Accuracy: 0.509800\n",
      "Epoch 35, CIFAR-10 Batch 5:  Loss:     1.2170 Validation Accuracy: 0.501600\n",
      "Epoch 36, CIFAR-10 Batch 1:  Loss:     1.4128 Validation Accuracy: 0.507600\n",
      "Epoch 36, CIFAR-10 Batch 2:  Loss:     1.2125 Validation Accuracy: 0.504800\n",
      "Epoch 36, CIFAR-10 Batch 3:  Loss:     1.1121 Validation Accuracy: 0.513200\n",
      "Epoch 36, CIFAR-10 Batch 4:  Loss:     1.2953 Validation Accuracy: 0.510200\n",
      "Epoch 36, CIFAR-10 Batch 5:  Loss:     1.1976 Validation Accuracy: 0.510400\n",
      "Epoch 37, CIFAR-10 Batch 1:  Loss:     1.4232 Validation Accuracy: 0.506200\n",
      "Epoch 37, CIFAR-10 Batch 2:  Loss:     1.1828 Validation Accuracy: 0.500600\n",
      "Epoch 37, CIFAR-10 Batch 3:  Loss:     1.1273 Validation Accuracy: 0.514200\n",
      "Epoch 37, CIFAR-10 Batch 4:  Loss:     1.3014 Validation Accuracy: 0.512200\n",
      "Epoch 37, CIFAR-10 Batch 5:  Loss:     1.2207 Validation Accuracy: 0.499800\n",
      "Epoch 38, CIFAR-10 Batch 1:  Loss:     1.3825 Validation Accuracy: 0.509000\n",
      "Epoch 38, CIFAR-10 Batch 2:  Loss:     1.1750 Validation Accuracy: 0.511200\n",
      "Epoch 38, CIFAR-10 Batch 3:  Loss:     1.1161 Validation Accuracy: 0.507800\n",
      "Epoch 38, CIFAR-10 Batch 4:  Loss:     1.2810 Validation Accuracy: 0.517800\n",
      "Epoch 38, CIFAR-10 Batch 5:  Loss:     1.1827 Validation Accuracy: 0.505800\n",
      "Epoch 39, CIFAR-10 Batch 1:  Loss:     1.3924 Validation Accuracy: 0.513800\n",
      "Epoch 39, CIFAR-10 Batch 2:  Loss:     1.1593 Validation Accuracy: 0.506400\n",
      "Epoch 39, CIFAR-10 Batch 3:  Loss:     1.0974 Validation Accuracy: 0.513800\n",
      "Epoch 39, CIFAR-10 Batch 4:  Loss:     1.2598 Validation Accuracy: 0.510400\n",
      "Epoch 39, CIFAR-10 Batch 5:  Loss:     1.1984 Validation Accuracy: 0.508200\n",
      "Epoch 40, CIFAR-10 Batch 1:  Loss:     1.3723 Validation Accuracy: 0.520000\n",
      "Epoch 40, CIFAR-10 Batch 2:  Loss:     1.1531 Validation Accuracy: 0.506200\n",
      "Epoch 40, CIFAR-10 Batch 3:  Loss:     1.1094 Validation Accuracy: 0.516800\n",
      "Epoch 40, CIFAR-10 Batch 4:  Loss:     1.2599 Validation Accuracy: 0.516200\n",
      "Epoch 40, CIFAR-10 Batch 5:  Loss:     1.1751 Validation Accuracy: 0.518800\n",
      "Epoch 41, CIFAR-10 Batch 1:  Loss:     1.4164 Validation Accuracy: 0.517200\n",
      "Epoch 41, CIFAR-10 Batch 2:  Loss:     1.1836 Validation Accuracy: 0.513600\n",
      "Epoch 41, CIFAR-10 Batch 3:  Loss:     1.0617 Validation Accuracy: 0.515600\n",
      "Epoch 41, CIFAR-10 Batch 4:  Loss:     1.2285 Validation Accuracy: 0.512200\n",
      "Epoch 41, CIFAR-10 Batch 5:  Loss:     1.1856 Validation Accuracy: 0.518000\n",
      "Epoch 42, CIFAR-10 Batch 1:  Loss:     1.4088 Validation Accuracy: 0.509400\n",
      "Epoch 42, CIFAR-10 Batch 2:  Loss:     1.1649 Validation Accuracy: 0.523000\n",
      "Epoch 42, CIFAR-10 Batch 3:  Loss:     1.0802 Validation Accuracy: 0.521200\n",
      "Epoch 42, CIFAR-10 Batch 4:  Loss:     1.2631 Validation Accuracy: 0.518400\n",
      "Epoch 42, CIFAR-10 Batch 5:  Loss:     1.1780 Validation Accuracy: 0.520400\n",
      "Epoch 43, CIFAR-10 Batch 1:  Loss:     1.3661 Validation Accuracy: 0.518200\n",
      "Epoch 43, CIFAR-10 Batch 2:  Loss:     1.1673 Validation Accuracy: 0.509800\n",
      "Epoch 43, CIFAR-10 Batch 3:  Loss:     1.0739 Validation Accuracy: 0.521600\n",
      "Epoch 43, CIFAR-10 Batch 4:  Loss:     1.2434 Validation Accuracy: 0.522400\n",
      "Epoch 43, CIFAR-10 Batch 5:  Loss:     1.1649 Validation Accuracy: 0.521600\n",
      "Epoch 44, CIFAR-10 Batch 1:  Loss:     1.3554 Validation Accuracy: 0.522800\n"
     ]
    },
    {
     "name": "stdout",
     "output_type": "stream",
     "text": [
      "Epoch 44, CIFAR-10 Batch 2:  Loss:     1.1470 Validation Accuracy: 0.515200\n",
      "Epoch 44, CIFAR-10 Batch 3:  Loss:     1.0502 Validation Accuracy: 0.523600\n",
      "Epoch 44, CIFAR-10 Batch 4:  Loss:     1.2583 Validation Accuracy: 0.520600\n",
      "Epoch 44, CIFAR-10 Batch 5:  Loss:     1.1854 Validation Accuracy: 0.517600\n",
      "Epoch 45, CIFAR-10 Batch 1:  Loss:     1.3832 Validation Accuracy: 0.521000\n",
      "Epoch 45, CIFAR-10 Batch 2:  Loss:     1.1457 Validation Accuracy: 0.517000\n",
      "Epoch 45, CIFAR-10 Batch 3:  Loss:     1.0745 Validation Accuracy: 0.522200\n",
      "Epoch 45, CIFAR-10 Batch 4:  Loss:     1.2064 Validation Accuracy: 0.518400\n",
      "Epoch 45, CIFAR-10 Batch 5:  Loss:     1.1804 Validation Accuracy: 0.523800\n",
      "Epoch 46, CIFAR-10 Batch 1:  Loss:     1.3331 Validation Accuracy: 0.524000\n",
      "Epoch 46, CIFAR-10 Batch 2:  Loss:     1.1536 Validation Accuracy: 0.524000\n",
      "Epoch 46, CIFAR-10 Batch 3:  Loss:     1.0582 Validation Accuracy: 0.524000\n",
      "Epoch 46, CIFAR-10 Batch 4:  Loss:     1.2260 Validation Accuracy: 0.521400\n",
      "Epoch 46, CIFAR-10 Batch 5:  Loss:     1.1890 Validation Accuracy: 0.517800\n",
      "Epoch 47, CIFAR-10 Batch 1:  Loss:     1.3402 Validation Accuracy: 0.526200\n",
      "Epoch 47, CIFAR-10 Batch 2:  Loss:     1.1665 Validation Accuracy: 0.516600\n",
      "Epoch 47, CIFAR-10 Batch 3:  Loss:     1.0661 Validation Accuracy: 0.521400\n",
      "Epoch 47, CIFAR-10 Batch 4:  Loss:     1.1997 Validation Accuracy: 0.517800\n",
      "Epoch 47, CIFAR-10 Batch 5:  Loss:     1.1636 Validation Accuracy: 0.526800\n",
      "Epoch 48, CIFAR-10 Batch 1:  Loss:     1.3718 Validation Accuracy: 0.519600\n",
      "Epoch 48, CIFAR-10 Batch 2:  Loss:     1.1471 Validation Accuracy: 0.524200\n",
      "Epoch 48, CIFAR-10 Batch 3:  Loss:     1.0788 Validation Accuracy: 0.519200\n",
      "Epoch 48, CIFAR-10 Batch 4:  Loss:     1.2319 Validation Accuracy: 0.526400\n",
      "Epoch 48, CIFAR-10 Batch 5:  Loss:     1.1560 Validation Accuracy: 0.523000\n",
      "Epoch 49, CIFAR-10 Batch 1:  Loss:     1.3828 Validation Accuracy: 0.516600\n",
      "Epoch 49, CIFAR-10 Batch 2:  Loss:     1.1466 Validation Accuracy: 0.517600\n",
      "Epoch 49, CIFAR-10 Batch 3:  Loss:     1.0536 Validation Accuracy: 0.527200\n",
      "Epoch 49, CIFAR-10 Batch 4:  Loss:     1.2469 Validation Accuracy: 0.524400\n",
      "Epoch 49, CIFAR-10 Batch 5:  Loss:     1.1489 Validation Accuracy: 0.525400\n",
      "Epoch 50, CIFAR-10 Batch 1:  Loss:     1.3776 Validation Accuracy: 0.520000\n",
      "Epoch 50, CIFAR-10 Batch 2:  Loss:     1.1365 Validation Accuracy: 0.525800\n",
      "Epoch 50, CIFAR-10 Batch 3:  Loss:     1.0419 Validation Accuracy: 0.526000\n",
      "Epoch 50, CIFAR-10 Batch 4:  Loss:     1.2282 Validation Accuracy: 0.529400\n",
      "Epoch 50, CIFAR-10 Batch 5:  Loss:     1.1603 Validation Accuracy: 0.525000\n",
      "Epoch 51, CIFAR-10 Batch 1:  Loss:     1.3701 Validation Accuracy: 0.522600\n",
      "Epoch 51, CIFAR-10 Batch 2:  Loss:     1.1268 Validation Accuracy: 0.519000\n",
      "Epoch 51, CIFAR-10 Batch 3:  Loss:     1.0575 Validation Accuracy: 0.529400\n",
      "Epoch 51, CIFAR-10 Batch 4:  Loss:     1.2276 Validation Accuracy: 0.531000\n",
      "Epoch 51, CIFAR-10 Batch 5:  Loss:     1.1442 Validation Accuracy: 0.525000\n",
      "Epoch 52, CIFAR-10 Batch 1:  Loss:     1.3630 Validation Accuracy: 0.517200\n",
      "Epoch 52, CIFAR-10 Batch 2:  Loss:     1.1533 Validation Accuracy: 0.524600\n",
      "Epoch 52, CIFAR-10 Batch 3:  Loss:     1.0408 Validation Accuracy: 0.527200\n",
      "Epoch 52, CIFAR-10 Batch 4:  Loss:     1.2144 Validation Accuracy: 0.530000\n",
      "Epoch 52, CIFAR-10 Batch 5:  Loss:     1.1576 Validation Accuracy: 0.524800\n",
      "Epoch 53, CIFAR-10 Batch 1:  Loss:     1.3651 Validation Accuracy: 0.524200\n",
      "Epoch 53, CIFAR-10 Batch 2:  Loss:     1.1556 Validation Accuracy: 0.523800\n",
      "Epoch 53, CIFAR-10 Batch 3:  Loss:     1.0573 Validation Accuracy: 0.523600\n",
      "Epoch 53, CIFAR-10 Batch 4:  Loss:     1.2163 Validation Accuracy: 0.536200\n",
      "Epoch 53, CIFAR-10 Batch 5:  Loss:     1.1332 Validation Accuracy: 0.533000\n",
      "Epoch 54, CIFAR-10 Batch 1:  Loss:     1.3358 Validation Accuracy: 0.532400\n",
      "Epoch 54, CIFAR-10 Batch 2:  Loss:     1.1305 Validation Accuracy: 0.520800\n",
      "Epoch 54, CIFAR-10 Batch 3:  Loss:     1.0533 Validation Accuracy: 0.529000\n",
      "Epoch 54, CIFAR-10 Batch 4:  Loss:     1.2150 Validation Accuracy: 0.540400\n",
      "Epoch 54, CIFAR-10 Batch 5:  Loss:     1.1341 Validation Accuracy: 0.525400\n",
      "Epoch 55, CIFAR-10 Batch 1:  Loss:     1.3601 Validation Accuracy: 0.526200\n",
      "Epoch 55, CIFAR-10 Batch 2:  Loss:     1.1246 Validation Accuracy: 0.530000\n",
      "Epoch 55, CIFAR-10 Batch 3:  Loss:     1.0460 Validation Accuracy: 0.527000\n",
      "Epoch 55, CIFAR-10 Batch 4:  Loss:     1.2285 Validation Accuracy: 0.528600\n",
      "Epoch 55, CIFAR-10 Batch 5:  Loss:     1.1360 Validation Accuracy: 0.521600\n",
      "Epoch 56, CIFAR-10 Batch 1:  Loss:     1.3490 Validation Accuracy: 0.520400\n",
      "Epoch 56, CIFAR-10 Batch 2:  Loss:     1.1089 Validation Accuracy: 0.526600\n",
      "Epoch 56, CIFAR-10 Batch 3:  Loss:     1.0792 Validation Accuracy: 0.520600\n",
      "Epoch 56, CIFAR-10 Batch 4:  Loss:     1.1918 Validation Accuracy: 0.530800\n",
      "Epoch 56, CIFAR-10 Batch 5:  Loss:     1.1165 Validation Accuracy: 0.534400\n",
      "Epoch 57, CIFAR-10 Batch 1:  Loss:     1.3367 Validation Accuracy: 0.527600\n",
      "Epoch 57, CIFAR-10 Batch 2:  Loss:     1.1250 Validation Accuracy: 0.515800\n",
      "Epoch 57, CIFAR-10 Batch 3:  Loss:     1.0513 Validation Accuracy: 0.528600\n",
      "Epoch 57, CIFAR-10 Batch 4:  Loss:     1.2134 Validation Accuracy: 0.534000\n",
      "Epoch 57, CIFAR-10 Batch 5:  Loss:     1.1047 Validation Accuracy: 0.531000\n",
      "Epoch 58, CIFAR-10 Batch 1:  Loss:     1.3327 Validation Accuracy: 0.525800\n",
      "Epoch 58, CIFAR-10 Batch 2:  Loss:     1.1138 Validation Accuracy: 0.524600\n",
      "Epoch 58, CIFAR-10 Batch 3:  Loss:     1.0498 Validation Accuracy: 0.523000\n",
      "Epoch 58, CIFAR-10 Batch 4:  Loss:     1.1894 Validation Accuracy: 0.532800\n",
      "Epoch 58, CIFAR-10 Batch 5:  Loss:     1.1221 Validation Accuracy: 0.526400\n",
      "Epoch 59, CIFAR-10 Batch 1:  Loss:     1.3211 Validation Accuracy: 0.528200\n",
      "Epoch 59, CIFAR-10 Batch 2:  Loss:     1.1404 Validation Accuracy: 0.534200\n",
      "Epoch 59, CIFAR-10 Batch 3:  Loss:     1.0541 Validation Accuracy: 0.525600\n",
      "Epoch 59, CIFAR-10 Batch 4:  Loss:     1.2009 Validation Accuracy: 0.526000\n",
      "Epoch 59, CIFAR-10 Batch 5:  Loss:     1.1029 Validation Accuracy: 0.534200\n",
      "Epoch 60, CIFAR-10 Batch 1:  Loss:     1.3559 Validation Accuracy: 0.523200\n",
      "Epoch 60, CIFAR-10 Batch 2:  Loss:     1.1085 Validation Accuracy: 0.522600\n",
      "Epoch 60, CIFAR-10 Batch 3:  Loss:     1.0219 Validation Accuracy: 0.534600\n",
      "Epoch 60, CIFAR-10 Batch 4:  Loss:     1.1731 Validation Accuracy: 0.537200\n",
      "Epoch 60, CIFAR-10 Batch 5:  Loss:     1.0851 Validation Accuracy: 0.523600\n"
     ]
    }
   ],
   "source": [
    "\"\"\"\n",
    "DON'T MODIFY\n",
    "ANYTHING IN THIS CELL\n",
    "\"\"\"\n",
    "save_model_path = './image_classification'\n",
    "\n",
    "print('Training...')\n",
    "with tf.Session() as sess:\n",
    "    # Initializing the variables\n",
    "    sess.run(tf.global_variables_initializer())\n",
    "    \n",
    "    # Training cycle\n",
    "    for epoch in range(epochs):\n",
    "        # Loop over all batches\n",
    "        n_batches = 5\n",
    "        for batch_i in range(1, n_batches + 1):\n",
    "            for batch_features, batch_labels in helper.load_preprocess_training_batch(batch_i, batch_size):\n",
    "                train_neural_network(sess, optimizer, keep_probability, batch_features, batch_labels)\n",
    "            print('Epoch {:>2}, CIFAR-10 Batch {}:  '.format(epoch + 1, batch_i), end='')\n",
    "            print_stats(sess, batch_features, batch_labels, cost, accuracy)\n",
    "            \n",
    "    # Save Model\n",
    "    saver = tf.train.Saver()\n",
    "    save_path = saver.save(sess, save_model_path)"
   ]
  },
  {
   "cell_type": "markdown",
   "metadata": {},
   "source": [
    "# Checkpoint\n",
    "The model has been saved to disk.\n",
    "## Test Model\n",
    "Test your model against the test dataset.  This will be your final accuracy. You should have an accuracy greater than 50%. If you don't, keep tweaking the model architecture and parameters."
   ]
  },
  {
   "cell_type": "code",
   "execution_count": 176,
   "metadata": {
    "scrolled": true
   },
   "outputs": [
    {
     "name": "stdout",
     "output_type": "stream",
     "text": [
      "INFO:tensorflow:Restoring parameters from ./image_classification\n",
      "Testing Accuracy: 0.5212890625\n",
      "\n"
     ]
    },
    {
     "data": {
      "image/png": "[encoded data removed]",
      "text/plain": [
       "<matplotlib.figure.Figure at 0x102cd50f0>"
      ]
     },
     "metadata": {
      "image/png": {
       "height": 319,
       "width": 355
      }
     },
     "output_type": "display_data"
    }
   ],
   "source": [
    "\"\"\"\n",
    "DON'T MODIFY ANYTHING IN THIS CELL\n",
    "\"\"\"\n",
    "%matplotlib inline\n",
    "%config InlineBackend.figure_format = 'retina'\n",
    "\n",
    "import tensorflow as tf\n",
    "import pickle\n",
    "import helper\n",
    "import random\n",
    "\n",
    "# Set batch size if not already set\n",
    "try:\n",
    "    if batch_size:\n",
    "        pass\n",
    "except NameError:\n",
    "    batch_size = 64\n",
    "\n",
    "save_model_path = './image_classification'\n",
    "n_samples = 4\n",
    "top_n_predictions = 3\n",
    "\n",
    "def test_model():\n",
    "    \"\"\"\n",
    "    Test the saved model against the test dataset\n",
    "    \"\"\"\n",
    "\n",
    "    test_features, test_labels = pickle.load(open('preprocess_training.p', mode='rb'))\n",
    "    loaded_graph = tf.Graph()\n",
    "\n",
    "    with tf.Session(graph=loaded_graph) as sess:\n",
    "        # Load model\n",
    "        loader = tf.train.import_meta_graph(save_model_path + '.meta')\n",
    "        loader.restore(sess, save_model_path)\n",
    "\n",
    "        # Get Tensors from loaded model\n",
    "        loaded_x = loaded_graph.get_tensor_by_name('x:0')\n",
    "        loaded_y = loaded_graph.get_tensor_by_name('y:0')\n",
    "        loaded_keep_prob = loaded_graph.get_tensor_by_name('keep_prob:0')\n",
    "        loaded_logits = loaded_graph.get_tensor_by_name('logits:0')\n",
    "        loaded_acc = loaded_graph.get_tensor_by_name('accuracy:0')\n",
    "        \n",
    "        # Get accuracy in batches for memory limitations\n",
    "        test_batch_acc_total = 0\n",
    "        test_batch_count = 0\n",
    "        \n",
    "        for train_feature_batch, train_label_batch in helper.batch_features_labels(test_features, test_labels, batch_size):\n",
    "            test_batch_acc_total += sess.run(\n",
    "                loaded_acc,\n",
    "                feed_dict={loaded_x: train_feature_batch, loaded_y: train_label_batch, loaded_keep_prob: 1.0})\n",
    "            test_batch_count += 1\n",
    "\n",
    "        print('Testing Accuracy: {}\\n'.format(test_batch_acc_total/test_batch_count))\n",
    "\n",
    "        # Print Random Samples\n",
    "        random_test_features, random_test_labels = tuple(zip(*random.sample(list(zip(test_features, test_labels)), n_samples)))\n",
    "        random_test_predictions = sess.run(\n",
    "            tf.nn.top_k(tf.nn.softmax(loaded_logits), top_n_predictions),\n",
    "            feed_dict={loaded_x: random_test_features, loaded_y: random_test_labels, loaded_keep_prob: 1.0})\n",
    "        helper.display_image_predictions(random_test_features, random_test_labels, random_test_predictions)\n",
    "\n",
    "\n",
    "test_model()"
   ]
  },
  {
   "cell_type": "markdown",
   "metadata": {},
   "source": [
    "## Why 50-70% Accuracy?\n",
    "You might be wondering why you can't get an accuracy any higher. First things first, 50% isn't bad for a simple CNN.  Pure guessing would get you 10% accuracy. However, you might notice people are getting scores [well above 70%](http://rodrigob.github.io/are_we_there_yet/build/classification_datasets_results.html#43494641522d3130).  That's because we haven't taught you all there is to know about neural networks. We still need to cover a few more techniques.\n",
    "## Submitting This Project\n",
    "When submitting this project, make sure to run all the cells before saving the notebook.  Save the notebook file as \"dlnd_image_classification.ipynb\" and save it as a HTML file under \"File\" -> \"Download as\".  Include the \"helper.py\" and \"problem_unittests.py\" files in your submission."
   ]
  }
 ],
 "metadata": {
  "kernelspec": {
   "display_name": "Python 3",
   "language": "python",
   "name": "python3"
  },
  "language_info": {
   "codemirror_mode": {
    "name": "ipython",
    "version": 3
   },
   "file_extension": ".py",
   "mimetype": "text/x-python",
   "name": "python",
   "nbconvert_exporter": "python",
   "pygments_lexer": "ipython3",
   "version": "3.6.2"
  }
 },
 "nbformat": 4,
 "nbformat_minor": 1
}
