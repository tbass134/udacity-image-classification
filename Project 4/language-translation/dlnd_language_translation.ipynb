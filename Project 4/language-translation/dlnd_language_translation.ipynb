{
 "cells": [
  {
   "cell_type": "markdown",
   "metadata": {
    "collapsed": true
   },
   "source": [
    "# Language Translation\n",
    "In this project, you’re going to take a peek into the realm of neural network machine translation.  You’ll be training a sequence to sequence model on a dataset of English and French sentences that can translate new sentences from English to French.\n",
    "## Get the Data\n",
    "Since translating the whole language of English to French will take lots of time to train, we have provided you with a small portion of the English corpus."
   ]
  },
  {
   "cell_type": "code",
   "execution_count": 1,
   "metadata": {
    "collapsed": true
   },
   "outputs": [],
   "source": [
    "\"\"\"\n",
    "DON'T MODIFY ANYTHING IN THIS CELL\n",
    "\"\"\"\n",
    "import helper\n",
    "import problem_unittests as tests\n",
    "\n",
    "source_path = 'data/small_vocab_en'\n",
    "target_path = 'data/small_vocab_fr'\n",
    "source_text = helper.load_data(source_path)\n",
    "target_text = helper.load_data(target_path)"
   ]
  },
  {
   "cell_type": "code",
   "execution_count": 2,
   "metadata": {},
   "outputs": [
    {
     "name": "stdout",
     "output_type": "stream",
     "text": [
      "Dataset Stats\n",
      "Roughly the number of unique words: 227\n",
      "Number of sentences: 137861\n",
      "Average number of words in a sentence: 13.225277634719028\n",
      "\n",
      "English sentences 0 to 10:\n",
      "new jersey is sometimes quiet during autumn , and it is snowy in april .\n",
      "the united states is usually chilly during july , and it is usually freezing in november .\n",
      "california is usually quiet during march , and it is usually hot in june .\n",
      "the united states is sometimes mild during june , and it is cold in september .\n",
      "your least liked fruit is the grape , but my least liked is the apple .\n",
      "his favorite fruit is the orange , but my favorite is the grape .\n",
      "paris is relaxing during december , but it is usually chilly in july .\n",
      "new jersey is busy during spring , and it is never hot in march .\n",
      "our least liked fruit is the lemon , but my least liked is the grape .\n",
      "the united states is sometimes busy during january , and it is sometimes warm in november .\n",
      "\n",
      "French sentences 0 to 10:\n",
      "new jersey est parfois calme pendant l' automne , et il est neigeux en avril .\n",
      "les états-unis est généralement froid en juillet , et il gèle habituellement en novembre .\n",
      "california est généralement calme en mars , et il est généralement chaud en juin .\n",
      "les états-unis est parfois légère en juin , et il fait froid en septembre .\n",
      "votre moins aimé fruit est le raisin , mais mon moins aimé est la pomme .\n",
      "son fruit préféré est l'orange , mais mon préféré est le raisin .\n",
      "paris est relaxant en décembre , mais il est généralement froid en juillet .\n",
      "new jersey est occupé au printemps , et il est jamais chaude en mars .\n",
      "notre fruit est moins aimé le citron , mais mon moins aimé est le raisin .\n",
      "les états-unis est parfois occupé en janvier , et il est parfois chaud en novembre .\n"
     ]
    }
   ],
   "source": [
    "view_sentence_range = (0, 10)\n",
    "\n",
    "\"\"\"\n",
    "DON'T MODIFY ANYTHING IN THIS CELL\n",
    "\"\"\"\n",
    "import numpy as np\n",
    "\n",
    "print('Dataset Stats')\n",
    "print('Roughly the number of unique words: {}'.format(len({word: None for word in source_text.split()})))\n",
    "\n",
    "sentences = source_text.split('\\n')\n",
    "word_counts = [len(sentence.split()) for sentence in sentences]\n",
    "print('Number of sentences: {}'.format(len(sentences)))\n",
    "print('Average number of words in a sentence: {}'.format(np.average(word_counts)))\n",
    "\n",
    "print()\n",
    "print('English sentences {} to {}:'.format(*view_sentence_range))\n",
    "print('\\n'.join(source_text.split('\\n')[view_sentence_range[0]:view_sentence_range[1]]))\n",
    "print()\n",
    "print('French sentences {} to {}:'.format(*view_sentence_range))\n",
    "print('\\n'.join(target_text.split('\\n')[view_sentence_range[0]:view_sentence_range[1]]))"
   ]
  },
  {
   "cell_type": "markdown",
   "metadata": {},
   "source": [
    "## Implement Preprocessing Function\n",
    "### Text to Word Ids\n",
    "As you did with other RNNs, you must turn the text into a number so the computer can understand it. In the function `text_to_ids()`, you'll turn `source_text` and `target_text` from words to ids.  However, you need to add the `<EOS>` word id at the end of `target_text`.  This will help the neural network predict when the sentence should end.\n",
    "\n",
    "You can get the `<EOS>` word id by doing:\n",
    "```python\n",
    "target_vocab_to_int['<EOS>']\n",
    "```\n",
    "You can get other word ids using `source_vocab_to_int` and `target_vocab_to_int`."
   ]
  },
  {
   "cell_type": "code",
   "execution_count": 3,
   "metadata": {},
   "outputs": [
    {
     "name": "stdout",
     "output_type": "stream",
     "text": [
      "Tests Passed\n"
     ]
    }
   ],
   "source": [
    "def text_to_ids(source_text, target_text, source_vocab_to_int, target_vocab_to_int):\n",
    "    \"\"\"\n",
    "    Convert source and target text to proper word ids\n",
    "    :param source_text: String that contains all the source text.\n",
    "    :param target_text: String that contains all the target text.\n",
    "    :param source_vocab_to_int: Dictionary to go from the source words to an id\n",
    "    :param target_vocab_to_int: Dictionary to go from the target words to an id\n",
    "    :return: A tuple of lists (source_id_text, target_id_text)\n",
    "    \"\"\"    \n",
    "    eos = target_vocab_to_int['<EOS>']\n",
    "    source_id_text = [[source_vocab_to_int[word] for word in sentence.split()] for sentence in source_text.split('\\n')]\n",
    "    target_text = [[target_vocab_to_int[word] for word in sentence.split()] + [eos] for sentence in target_text.split('\\n')]\n",
    "\n",
    "    return source_id_text, target_text\n",
    "\n",
    "\"\"\"\n",
    "DON'T MODIFY ANYTHING IN THIS CELL THAT IS BELOW THIS LINE\n",
    "\"\"\"\n",
    "tests.test_text_to_ids(text_to_ids)"
   ]
  },
  {
   "cell_type": "markdown",
   "metadata": {},
   "source": [
    "### Preprocess all the data and save it\n",
    "Running the code cell below will preprocess all the data and save it to file."
   ]
  },
  {
   "cell_type": "code",
   "execution_count": 4,
   "metadata": {
    "collapsed": true
   },
   "outputs": [],
   "source": [
    "\"\"\"\n",
    "DON'T MODIFY ANYTHING IN THIS CELL\n",
    "\"\"\"\n",
    "helper.preprocess_and_save_data(source_path, target_path, text_to_ids)"
   ]
  },
  {
   "cell_type": "markdown",
   "metadata": {},
   "source": [
    "# Check Point\n",
    "This is your first checkpoint. If you ever decide to come back to this notebook or have to restart the notebook, you can start from here. The preprocessed data has been saved to disk."
   ]
  },
  {
   "cell_type": "code",
   "execution_count": 1,
   "metadata": {
    "collapsed": true
   },
   "outputs": [],
   "source": [
    "\"\"\"\n",
    "DON'T MODIFY ANYTHING IN THIS CELL\n",
    "\"\"\"\n",
    "import numpy as np\n",
    "import helper\n",
    "import problem_unittests as tests\n",
    "\n",
    "(source_int_text, target_int_text), (source_vocab_to_int, target_vocab_to_int), _ = helper.load_preprocess()"
   ]
  },
  {
   "cell_type": "markdown",
   "metadata": {},
   "source": [
    "### Check the Version of TensorFlow and Access to GPU\n",
    "This will check to make sure you have the correct version of TensorFlow and access to a GPU"
   ]
  },
  {
   "cell_type": "code",
   "execution_count": 2,
   "metadata": {},
   "outputs": [
    {
     "name": "stdout",
     "output_type": "stream",
     "text": [
      "TensorFlow Version: 1.1.0\n",
      "Default GPU Device: /gpu:0\n"
     ]
    }
   ],
   "source": [
    "\"\"\"\n",
    "DON'T MODIFY ANYTHING IN THIS CELL\n",
    "\"\"\"\n",
    "from distutils.version import LooseVersion\n",
    "import warnings\n",
    "import tensorflow as tf\n",
    "from tensorflow.python.layers.core import Dense\n",
    "\n",
    "# Check TensorFlow Version\n",
    "assert LooseVersion(tf.__version__) >= LooseVersion('1.1'), 'Please use TensorFlow version 1.1 or newer'\n",
    "print('TensorFlow Version: {}'.format(tf.__version__))\n",
    "\n",
    "# Check for a GPU\n",
    "if not tf.test.gpu_device_name():\n",
    "    warnings.warn('No GPU found. Please use a GPU to train your neural network.')\n",
    "else:\n",
    "    print('Default GPU Device: {}'.format(tf.test.gpu_device_name()))"
   ]
  },
  {
   "cell_type": "markdown",
   "metadata": {},
   "source": [
    "## Build the Neural Network\n",
    "You'll build the components necessary to build a Sequence-to-Sequence model by implementing the following functions below:\n",
    "- `model_inputs`\n",
    "- `process_decoder_input`\n",
    "- `encoding_layer`\n",
    "- `decoding_layer_train`\n",
    "- `decoding_layer_infer`\n",
    "- `decoding_layer`\n",
    "- `seq2seq_model`\n",
    "\n",
    "### Input\n",
    "Implement the `model_inputs()` function to create TF Placeholders for the Neural Network. It should create the following placeholders:\n",
    "\n",
    "- Input text placeholder named \"input\" using the TF Placeholder name parameter with rank 2.\n",
    "- Targets placeholder with rank 2.\n",
    "- Learning rate placeholder with rank 0.\n",
    "- Keep probability placeholder named \"keep_prob\" using the TF Placeholder name parameter with rank 0.\n",
    "- Target sequence length placeholder named \"target_sequence_length\" with rank 1\n",
    "- Max target sequence length tensor named \"max_target_len\" getting its value from applying tf.reduce_max on the target_sequence_length placeholder. Rank 0.\n",
    "- Source sequence length placeholder named \"source_sequence_length\" with rank 1\n",
    "\n",
    "Return the placeholders in the following the tuple (input, targets, learning rate, keep probability, target sequence length, max target sequence length, source sequence length)"
   ]
  },
  {
   "cell_type": "code",
   "execution_count": 3,
   "metadata": {},
   "outputs": [
    {
     "name": "stdout",
     "output_type": "stream",
     "text": [
      "Tests Passed\n"
     ]
    }
   ],
   "source": [
    "def model_inputs():\n",
    "    \"\"\"\n",
    "    Create TF Placeholders for input, targets, learning rate, and lengths of source and target sequences.\n",
    "    :return: Tuple (input, targets, learning rate, keep probability, target sequence length,\n",
    "    max target sequence length, source sequence length)\n",
    "    \"\"\"\n",
    "    # TODO: Implement Function\n",
    "    input_data = tf.placeholder(tf.int32, [None, None], name=\"input\")\n",
    "    targets = tf.placeholder(tf.int32, [None, None], name=\"targets\")\n",
    "    learning_rate = tf.placeholder(tf.float32, name=\"learning_rate\")\n",
    "    keep_prob = tf.placeholder(tf.float32, name=\"keep_prob\")\n",
    "    target_sequence_length = tf.placeholder(tf.int32, (None,), name=\"target_sequence_length\")\n",
    "    max_target_len = tf.reduce_max(target_sequence_length, name=\"max_target_len\")\n",
    "    source_sequence_length = tf.placeholder(tf.int32, (None,), name=\"source_sequence_length\")\n",
    "\n",
    "    return input_data, targets, learning_rate, keep_prob, target_sequence_length, max_target_len, source_sequence_length\n",
    "\n",
    "\n",
    "\"\"\"\n",
    "DON'T MODIFY ANYTHING IN THIS CELL THAT IS BELOW THIS LINE\n",
    "\"\"\"\n",
    "tests.test_model_inputs(model_inputs)"
   ]
  },
  {
   "cell_type": "markdown",
   "metadata": {},
   "source": [
    "### Process Decoder Input\n",
    "Implement `process_decoder_input` by removing the last word id from each batch in `target_data` and concat the GO ID to the begining of each batch."
   ]
  },
  {
   "cell_type": "code",
   "execution_count": 4,
   "metadata": {
    "scrolled": true
   },
   "outputs": [
    {
     "name": "stdout",
     "output_type": "stream",
     "text": [
      "Tests Passed\n"
     ]
    }
   ],
   "source": [
    "def process_decoder_input(target_data, target_vocab_to_int, batch_size):\n",
    "    \"\"\"\n",
    "    Preprocess target data for encoding\n",
    "    :param target_data: Target Placehoder\n",
    "    :param target_vocab_to_int: Dictionary to go from the target words to an id\n",
    "    :param batch_size: Batch Size\n",
    "    :return: Preprocessed target data\n",
    "    \"\"\"\n",
    "    go_id = target_vocab_to_int['<GO>']\n",
    "    last_slice = tf.strided_slice(target_data, [0,0], [batch_size, -1], [1,1])\n",
    "    dec_input = tf.concat([tf.fill(\n",
    "        [batch_size, 1], go_id), last_slice], 1)\n",
    "    \n",
    "    return dec_input\n",
    "\n",
    "\"\"\"\n",
    "DON'T MODIFY ANYTHING IN THIS CELL THAT IS BELOW THIS LINE\n",
    "\"\"\"\n",
    "tests.test_process_encoding_input(process_decoder_input)"
   ]
  },
  {
   "cell_type": "markdown",
   "metadata": {},
   "source": [
    "# Encoding\n",
    "Implement `encoding_layer()` to create a Encoder RNN layer:\n",
    " * Embed the encoder input using [`tf.contrib.layers.embed_sequence`](https://www.tensorflow.org/api_docs/python/tf/contrib/layers/embed_sequence)\n",
    " * Construct a [stacked](https://github.com/tensorflow/tensorflow/blob/6947f65a374ebf29e74bb71e36fd82760056d82c/tensorflow/docs_src/tutorials/recurrent.md#stacking-multiple-lstms) [`tf.contrib.rnn.LSTMCell`](https://www.tensorflow.org/api_docs/python/tf/contrib/rnn/LSTMCell) wrapped in a [`tf.contrib.rnn.DropoutWrapper`](https://www.tensorflow.org/api_docs/python/tf/contrib/rnn/DropoutWrapper)\n",
    " * Pass cell and embedded input to [`tf.nn.dynamic_rnn()`](https://www.tensorflow.org/api_docs/python/tf/nn/dynamic_rnn)"
   ]
  },
  {
   "cell_type": "code",
   "execution_count": 5,
   "metadata": {
    "scrolled": false
   },
   "outputs": [
    {
     "name": "stdout",
     "output_type": "stream",
     "text": [
      "Tests Passed\n"
     ]
    }
   ],
   "source": [
    "from imp import reload\n",
    "reload(tests)\n",
    "\n",
    "def encoding_layer(rnn_inputs, rnn_size, num_layers, keep_prob, \n",
    "                   source_sequence_length, source_vocab_size, \n",
    "                   encoding_embedding_size):\n",
    "    \"\"\"\n",
    "    Create encoding layer\n",
    "    :param rnn_inputs: Inputs for the RNN\n",
    "    :param rnn_size: RNN Size\n",
    "    :param num_layers: Number of layers\n",
    "    :param keep_prob: Dropout keep probability\n",
    "    :param source_sequence_length: a list of the lengths of each sequence in the batch\n",
    "    :param source_vocab_size: vocabulary size of source data\n",
    "    :param encoding_embedding_size: embedding size of source data\n",
    "    :return: tuple (RNN output, RNN state)\n",
    "    \"\"\"\n",
    "    # TODO: Implement Function\n",
    "    def lstm_cell(rnn_size, keep_prob=keep_prob):\n",
    "        lstm = tf.contrib.rnn.LSTMCell(rnn_size, initializer=tf.random_uniform_initializer(-0.1, 0.1, seed=2))\n",
    "        drop = tf.contrib.rnn.DropoutWrapper(lstm, output_keep_prob=keep_prob)\n",
    "        return drop\n",
    "    \n",
    "    embedded_input = tf.contrib.layers.embed_sequence(rnn_inputs, source_vocab_size, encoding_embedding_size)\n",
    "    rnn_cells = tf.contrib.rnn.MultiRNNCell([lstm_cell(rnn_size) for _ in range(num_layers)])\n",
    "    output, state = tf.nn.dynamic_rnn(rnn_cells, embedded_input,\n",
    "                                                     sequence_length=source_sequence_length,\n",
    "                                                     dtype=tf.float32)\n",
    "    return output, state\n",
    "\n",
    "\"\"\"\n",
    "DON'T MODIFY ANYTHING IN THIS CELL THAT IS BELOW THIS LINE\n",
    "\"\"\"\n",
    "tests.test_encoding_layer(encoding_layer)"
   ]
  },
  {
   "cell_type": "markdown",
   "metadata": {},
   "source": [
    "### Decoding - Training\n",
    "Create a training decoding layer:\n",
    "* Create a [`tf.contrib.seq2seq.TrainingHelper`](https://www.tensorflow.org/api_docs/python/tf/contrib/seq2seq/TrainingHelper) \n",
    "* Create a [`tf.contrib.seq2seq.BasicDecoder`](https://www.tensorflow.org/api_docs/python/tf/contrib/seq2seq/BasicDecoder)\n",
    "* Obtain the decoder outputs from [`tf.contrib.seq2seq.dynamic_decode`](https://www.tensorflow.org/api_docs/python/tf/contrib/seq2seq/dynamic_decode)"
   ]
  },
  {
   "cell_type": "code",
   "execution_count": 6,
   "metadata": {},
   "outputs": [
    {
     "name": "stdout",
     "output_type": "stream",
     "text": [
      "Tests Passed\n"
     ]
    }
   ],
   "source": [
    "\n",
    "def decoding_layer_train(encoder_state, dec_cell, dec_embed_input, \n",
    "                         target_sequence_length, max_summary_length, \n",
    "                         output_layer, keep_prob):\n",
    "    \"\"\"\n",
    "    Create a decoding layer for training\n",
    "    :param encoder_state: Encoder State\n",
    "    :param dec_cell: Decoder RNN Cell\n",
    "    :param dec_embed_input: Decoder embedded input\n",
    "    :param target_sequence_length: The lengths of each sequence in the target batch\n",
    "    :param max_summary_length: The length of the longest sequence in the batch\n",
    "    :param output_layer: Function to apply the output layer\n",
    "    :param keep_prob: Dropout keep probability\n",
    "    :return: BasicDecoderOutput containing training logits and sample_id\n",
    "    \"\"\"\n",
    "    # TODO: Implement Function\n",
    "    training_helper = tf.contrib.seq2seq.TrainingHelper(inputs=dec_embed_input, sequence_length=target_sequence_length, time_major=False)\n",
    "    decoder = tf.contrib.seq2seq.BasicDecoder(dec_cell, training_helper, encoder_state, output_layer=output_layer)\n",
    "    final_outputs = tf.contrib.seq2seq.dynamic_decode(decoder,\n",
    "                                                           impute_finished=True,\n",
    "                                                           maximum_iterations=max_summary_length)[0]\n",
    "    return final_outputs\n",
    "\n",
    "\n",
    "\"\"\"\n",
    "DON'T MODIFY ANYTHING IN THIS CELL THAT IS BELOW THIS LINE\n",
    "\"\"\"\n",
    "tests.test_decoding_layer_train(decoding_layer_train)"
   ]
  },
  {
   "cell_type": "markdown",
   "metadata": {},
   "source": [
    "### Decoding - Inference\n",
    "Create inference decoder:\n",
    "* Create a [`tf.contrib.seq2seq.GreedyEmbeddingHelper`](https://www.tensorflow.org/api_docs/python/tf/contrib/seq2seq/GreedyEmbeddingHelper)\n",
    "* Create a [`tf.contrib.seq2seq.BasicDecoder`](https://www.tensorflow.org/api_docs/python/tf/contrib/seq2seq/BasicDecoder)\n",
    "* Obtain the decoder outputs from [`tf.contrib.seq2seq.dynamic_decode`](https://www.tensorflow.org/api_docs/python/tf/contrib/seq2seq/dynamic_decode)"
   ]
  },
  {
   "cell_type": "code",
   "execution_count": 7,
   "metadata": {
    "scrolled": true
   },
   "outputs": [
    {
     "name": "stdout",
     "output_type": "stream",
     "text": [
      "Tests Passed\n"
     ]
    }
   ],
   "source": [
    "def decoding_layer_infer(encoder_state, dec_cell, dec_embeddings, start_of_sequence_id,\n",
    "                         end_of_sequence_id, max_target_sequence_length,\n",
    "                         vocab_size, output_layer, batch_size, keep_prob):\n",
    "    \"\"\"\n",
    "    Create a decoding layer for inference\n",
    "    :param encoder_state: Encoder state\n",
    "    :param dec_cell: Decoder RNN Cell\n",
    "    :param dec_embeddings: Decoder embeddings\n",
    "    :param start_of_sequence_id: GO ID\n",
    "    :param end_of_sequence_id: EOS Id\n",
    "    :param max_target_sequence_length: Maximum length of target sequences\n",
    "    :param vocab_size: Size of decoder/target vocabulary\n",
    "    :param decoding_scope: TenorFlow Variable Scope for decoding\n",
    "    :param output_layer: Function to apply the output layer\n",
    "    :param batch_size: Batch size\n",
    "    :param keep_prob: Dropout keep probability\n",
    "    :return: BasicDecoderOutput containing inference logits and sample_id\n",
    "    \"\"\"\n",
    "    # TODO: Implement Function\n",
    "    start_tokens = tf.tile(tf.constant([start_of_sequence_id], dtype=tf.int32), [batch_size], name='start_tokens')\n",
    "\n",
    "    embedding_helper = tf.contrib.seq2seq.GreedyEmbeddingHelper(dec_embeddings, start_tokens, end_of_sequence_id)\n",
    "    decoder = tf.contrib.seq2seq.BasicDecoder(dec_cell, embedding_helper, encoder_state, output_layer)\n",
    "    final_outputs = tf.contrib.seq2seq.dynamic_decode(decoder,\n",
    "                                             impute_finished = True,\n",
    "                                             maximum_iterations = max_target_sequence_length)[0]\n",
    "    return final_outputs\n",
    "\n",
    "\n",
    "\n",
    "\"\"\"\n",
    "DON'T MODIFY ANYTHING IN THIS CELL THAT IS BELOW THIS LINE\n",
    "\"\"\"\n",
    "tests.test_decoding_layer_infer(decoding_layer_infer)"
   ]
  },
  {
   "cell_type": "markdown",
   "metadata": {},
   "source": [
    "### Build the Decoding Layer\n",
    "Implement `decoding_layer()` to create a Decoder RNN layer.\n",
    "\n",
    "* Embed the target sequences\n",
    "* Construct the decoder LSTM cell (just like you constructed the encoder cell above)\n",
    "* Create an output layer to map the outputs of the decoder to the elements of our vocabulary\n",
    "* Use the your `decoding_layer_train(encoder_state, dec_cell, dec_embed_input, target_sequence_length, max_target_sequence_length, output_layer, keep_prob)` function to get the training logits.\n",
    "* Use your `decoding_layer_infer(encoder_state, dec_cell, dec_embeddings, start_of_sequence_id, end_of_sequence_id, max_target_sequence_length, vocab_size, output_layer, batch_size, keep_prob)` function to get the inference logits.\n",
    "\n",
    "Note: You'll need to use [tf.variable_scope](https://www.tensorflow.org/api_docs/python/tf/variable_scope) to share variables between training and inference."
   ]
  },
  {
   "cell_type": "code",
   "execution_count": 8,
   "metadata": {},
   "outputs": [
    {
     "name": "stdout",
     "output_type": "stream",
     "text": [
      "Tests Passed\n"
     ]
    }
   ],
   "source": [
    "def decoding_layer(dec_input, encoder_state,\n",
    "                   target_sequence_length, max_target_sequence_length,\n",
    "                   rnn_size,\n",
    "                   num_layers, target_vocab_to_int, target_vocab_size,\n",
    "                   batch_size, keep_prob, decoding_embedding_size):\n",
    "    \"\"\"\n",
    "    Create decoding layer\n",
    "    :param dec_input: Decoder input\n",
    "    :param encoder_state: Encoder state\n",
    "    :param target_sequence_length: The lengths of each sequence in the target batch\n",
    "    :param max_target_sequence_length: Maximum length of target sequences\n",
    "    :param rnn_size: RNN Size\n",
    "    :param num_layers: Number of layers\n",
    "    :param target_vocab_to_int: Dictionary to go from the target words to an id\n",
    "    :param target_vocab_size: Size of target vocabulary\n",
    "    :param batch_size: The size of the batch\n",
    "    :param keep_prob: Dropout keep probability\n",
    "    :param decoding_embedding_size: Decoding embedding size\n",
    "    :return: Tuple of (Training BasicDecoderOutput, Inference BasicDecoderOutput)\n",
    "    \"\"\"\n",
    "    # TODO: Implement Function\n",
    "    def lstm_cell(rnn_size, keep_prob=keep_prob):\n",
    "        lstm = tf.contrib.rnn.LSTMCell(rnn_size, initializer=tf.random_uniform_initializer(-0.1, 0.1, seed=2))\n",
    "        drop = tf.contrib.rnn.DropoutWrapper(lstm, output_keep_prob=keep_prob)\n",
    "        return drop\n",
    "    \n",
    "    start_of_sequence_id = target_vocab_to_int['<GO>']\n",
    "    end_of_sequence_id = target_vocab_to_int['<EOS>']\n",
    "    \n",
    "    dec_embeddings = tf.Variable(tf.random_uniform([target_vocab_size, decoding_embedding_size]))\n",
    "    embedded_input = tf.nn.embedding_lookup(dec_embeddings, dec_input)\n",
    "    \n",
    "    cell_stack = tf.contrib.rnn.MultiRNNCell([lstm_cell(rnn_size) for _ in range(num_layers)])\n",
    "    output_layer = Dense(target_vocab_size,\n",
    "                         kernel_initializer = tf.truncated_normal_initializer(mean = 0.0, stddev=0.1))\n",
    "    \n",
    "    with tf.variable_scope('decode'):\n",
    "        basic_decoder_output_train = decoding_layer_train(encoder_state, cell_stack, embedded_input, \n",
    "                         target_sequence_length, max_target_sequence_length, \n",
    "                         output_layer, keep_prob)\n",
    "        \n",
    "    with tf.variable_scope('decode', reuse=True):\n",
    "        basic_decoder_output_infer = decoding_layer_infer(encoder_state, cell_stack, dec_embeddings, start_of_sequence_id, end_of_sequence_id, max_target_sequence_length, target_vocab_size, output_layer, batch_size, keep_prob)    \n",
    "    \n",
    "    return basic_decoder_output_train, basic_decoder_output_infer\n",
    "\n",
    "\n",
    "\n",
    "\"\"\"\n",
    "DON'T MODIFY ANYTHING IN THIS CELL THAT IS BELOW THIS LINE\n",
    "\"\"\"\n",
    "tests.test_decoding_layer(decoding_layer)"
   ]
  },
  {
   "cell_type": "markdown",
   "metadata": {},
   "source": [
    "### Build the Neural Network\n",
    "Apply the functions you implemented above to:\n",
    "\n",
    "- Encode the input using your `encoding_layer(rnn_inputs, rnn_size, num_layers, keep_prob,  source_sequence_length, source_vocab_size, encoding_embedding_size)`.\n",
    "- Process target data using your `process_decoder_input(target_data, target_vocab_to_int, batch_size)` function.\n",
    "- Decode the encoded input using your `decoding_layer(dec_input, enc_state, target_sequence_length, max_target_sentence_length, rnn_size, num_layers, target_vocab_to_int, target_vocab_size, batch_size, keep_prob, dec_embedding_size)` function."
   ]
  },
  {
   "cell_type": "code",
   "execution_count": 9,
   "metadata": {},
   "outputs": [
    {
     "name": "stdout",
     "output_type": "stream",
     "text": [
      "Tests Passed\n"
     ]
    }
   ],
   "source": [
    "def seq2seq_model(input_data, target_data, keep_prob, batch_size,\n",
    "                  source_sequence_length, target_sequence_length,\n",
    "                  max_target_sentence_length,\n",
    "                  source_vocab_size, target_vocab_size,\n",
    "                  enc_embedding_size, dec_embedding_size,\n",
    "                  rnn_size, num_layers, target_vocab_to_int):\n",
    "    \"\"\"\n",
    "    Build the Sequence-to-Sequence part of the neural network\n",
    "    :param input_data: Input placeholder\n",
    "    :param target_data: Target placeholder\n",
    "    :param keep_prob: Dropout keep probability placeholder\n",
    "    :param batch_size: Batch Size\n",
    "    :param source_sequence_length: Sequence Lengths of source sequences in the batch\n",
    "    :param target_sequence_length: Sequence Lengths of target sequences in the batch\n",
    "    :param source_vocab_size: Source vocabulary size\n",
    "    :param target_vocab_size: Target vocabulary size\n",
    "    :param enc_embedding_size: Decoder embedding size\n",
    "    :param dec_embedding_size: Encoder embedding size\n",
    "    :param rnn_size: RNN Size\n",
    "    :param num_layers: Number of layers\n",
    "    :param target_vocab_to_int: Dictionary to go from the target words to an id\n",
    "    :return: Tuple of (Training BasicDecoderOutput, Inference BasicDecoderOutput)\n",
    "    \"\"\"\n",
    "    # TODO: Implement Function\n",
    "    _, state = encoding_layer(input_data, rnn_size, num_layers, keep_prob, source_sequence_length, source_vocab_size, enc_embedding_size)\n",
    "    dec_input = process_decoder_input(target_data, target_vocab_to_int, batch_size)\n",
    "    basic_decoder_out_train, basic_decoder_out_inf = decoding_layer(dec_input, state, target_sequence_length, max_target_sentence_length, rnn_size, num_layers, target_vocab_to_int, target_vocab_size, batch_size, keep_prob, dec_embedding_size)\n",
    "    return basic_decoder_out_train, basic_decoder_out_inf\n",
    "\n",
    "\n",
    "\"\"\"\n",
    "DON'T MODIFY ANYTHING IN THIS CELL THAT IS BELOW THIS LINE\n",
    "\"\"\"\n",
    "tests.test_seq2seq_model(seq2seq_model)"
   ]
  },
  {
   "cell_type": "markdown",
   "metadata": {},
   "source": [
    "## Neural Network Training\n",
    "### Hyperparameters\n",
    "Tune the following parameters:\n",
    "\n",
    "- Set `epochs` to the number of epochs.\n",
    "- Set `batch_size` to the batch size.\n",
    "- Set `rnn_size` to the size of the RNNs.\n",
    "- Set `num_layers` to the number of layers.\n",
    "- Set `encoding_embedding_size` to the size of the embedding for the encoder.\n",
    "- Set `decoding_embedding_size` to the size of the embedding for the decoder.\n",
    "- Set `learning_rate` to the learning rate.\n",
    "- Set `keep_probability` to the Dropout keep probability\n",
    "- Set `display_step` to state how many steps between each debug output statement"
   ]
  },
  {
   "cell_type": "code",
   "execution_count": 10,
   "metadata": {
    "collapsed": true
   },
   "outputs": [],
   "source": [
    "# Number of Epochs\n",
    "epochs = 10\n",
    "# Batch Size\n",
    "batch_size = 512\n",
    "# RNN Size\n",
    "rnn_size = 128\n",
    "# Number of Layers\n",
    "num_layers = 2\n",
    "# Embedding Size\n",
    "encoding_embedding_size = 128\n",
    "decoding_embedding_size = 128\n",
    "# Learning Rate\n",
    "learning_rate = 0.001\n",
    "# Dropout Keep Probability\n",
    "keep_probability = 0.75\n",
    "display_step = 10"
   ]
  },
  {
   "cell_type": "markdown",
   "metadata": {},
   "source": [
    "### Build the Graph\n",
    "Build the graph using the neural network you implemented."
   ]
  },
  {
   "cell_type": "code",
   "execution_count": 11,
   "metadata": {
    "collapsed": true
   },
   "outputs": [],
   "source": [
    "\"\"\"\n",
    "DON'T MODIFY ANYTHING IN THIS CELL\n",
    "\"\"\"\n",
    "save_path = 'checkpoints/dev'\n",
    "(source_int_text, target_int_text), (source_vocab_to_int, target_vocab_to_int), _ = helper.load_preprocess()\n",
    "max_target_sentence_length = max([len(sentence) for sentence in source_int_text])\n",
    "\n",
    "train_graph = tf.Graph()\n",
    "with train_graph.as_default():\n",
    "    input_data, targets, lr, keep_prob, target_sequence_length, max_target_sequence_length, source_sequence_length = model_inputs()\n",
    "\n",
    "    #sequence_length = tf.placeholder_with_default(max_target_sentence_length, None, name='sequence_length')\n",
    "    input_shape = tf.shape(input_data)\n",
    "\n",
    "    train_logits, inference_logits = seq2seq_model(tf.reverse(input_data, [-1]),\n",
    "                                                   targets,\n",
    "                                                   keep_prob,\n",
    "                                                   batch_size,\n",
    "                                                   source_sequence_length,\n",
    "                                                   target_sequence_length,\n",
    "                                                   max_target_sequence_length,\n",
    "                                                   len(source_vocab_to_int),\n",
    "                                                   len(target_vocab_to_int),\n",
    "                                                   encoding_embedding_size,\n",
    "                                                   decoding_embedding_size,\n",
    "                                                   rnn_size,\n",
    "                                                   num_layers,\n",
    "                                                   target_vocab_to_int)\n",
    "\n",
    "\n",
    "    training_logits = tf.identity(train_logits.rnn_output, name='logits')\n",
    "    inference_logits = tf.identity(inference_logits.sample_id, name='predictions')\n",
    "\n",
    "    masks = tf.sequence_mask(target_sequence_length, max_target_sequence_length, dtype=tf.float32, name='masks')\n",
    "\n",
    "    with tf.name_scope(\"optimization\"):\n",
    "        # Loss function\n",
    "        cost = tf.contrib.seq2seq.sequence_loss(\n",
    "            training_logits,\n",
    "            targets,\n",
    "            masks)\n",
    "\n",
    "        # Optimizer\n",
    "        optimizer = tf.train.AdamOptimizer(lr)\n",
    "\n",
    "        # Gradient Clipping\n",
    "        gradients = optimizer.compute_gradients(cost)\n",
    "        capped_gradients = [(tf.clip_by_value(grad, -1., 1.), var) for grad, var in gradients if grad is not None]\n",
    "        train_op = optimizer.apply_gradients(capped_gradients)\n"
   ]
  },
  {
   "cell_type": "markdown",
   "metadata": {},
   "source": [
    "Batch and pad the source and target sequences"
   ]
  },
  {
   "cell_type": "code",
   "execution_count": 12,
   "metadata": {
    "collapsed": true
   },
   "outputs": [],
   "source": [
    "\"\"\"\n",
    "DON'T MODIFY ANYTHING IN THIS CELL\n",
    "\"\"\"\n",
    "def pad_sentence_batch(sentence_batch, pad_int):\n",
    "    \"\"\"Pad sentences with <PAD> so that each sentence of a batch has the same length\"\"\"\n",
    "    max_sentence = max([len(sentence) for sentence in sentence_batch])\n",
    "    return [sentence + [pad_int] * (max_sentence - len(sentence)) for sentence in sentence_batch]\n",
    "\n",
    "\n",
    "def get_batches(sources, targets, batch_size, source_pad_int, target_pad_int):\n",
    "    \"\"\"Batch targets, sources, and the lengths of their sentences together\"\"\"\n",
    "    for batch_i in range(0, len(sources)//batch_size):\n",
    "        start_i = batch_i * batch_size\n",
    "\n",
    "        # Slice the right amount for the batch\n",
    "        sources_batch = sources[start_i:start_i + batch_size]\n",
    "        targets_batch = targets[start_i:start_i + batch_size]\n",
    "\n",
    "        # Pad\n",
    "        pad_sources_batch = np.array(pad_sentence_batch(sources_batch, source_pad_int))\n",
    "        pad_targets_batch = np.array(pad_sentence_batch(targets_batch, target_pad_int))\n",
    "\n",
    "        # Need the lengths for the _lengths parameters\n",
    "        pad_targets_lengths = []\n",
    "        for target in pad_targets_batch:\n",
    "            pad_targets_lengths.append(len(target))\n",
    "\n",
    "        pad_source_lengths = []\n",
    "        for source in pad_sources_batch:\n",
    "            pad_source_lengths.append(len(source))\n",
    "\n",
    "        yield pad_sources_batch, pad_targets_batch, pad_source_lengths, pad_targets_lengths\n"
   ]
  },
  {
   "cell_type": "markdown",
   "metadata": {},
   "source": [
    "### Train\n",
    "Train the neural network on the preprocessed data. If you have a hard time getting a good loss, check the forms to see if anyone is having the same problem."
   ]
  },
  {
   "cell_type": "code",
   "execution_count": 13,
   "metadata": {
    "scrolled": true
   },
   "outputs": [
    {
     "name": "stdout",
     "output_type": "stream",
     "text": [
      "Epoch   0 Batch   10/269 - Train Accuracy: 0.2673, Validation Accuracy: 0.3407, Loss: 4.3337\n",
      "Epoch   0 Batch   20/269 - Train Accuracy: 0.2750, Validation Accuracy: 0.3428, Loss: 3.5251\n",
      "Epoch   0 Batch   30/269 - Train Accuracy: 0.3565, Validation Accuracy: 0.3946, Loss: 3.0741\n",
      "Epoch   0 Batch   40/269 - Train Accuracy: 0.3466, Validation Accuracy: 0.4086, Loss: 2.9817\n",
      "Epoch   0 Batch   50/269 - Train Accuracy: 0.3862, Validation Accuracy: 0.4400, Loss: 2.8163\n",
      "Epoch   0 Batch   60/269 - Train Accuracy: 0.4490, Validation Accuracy: 0.4671, Loss: 2.5269\n",
      "Epoch   0 Batch   70/269 - Train Accuracy: 0.4526, Validation Accuracy: 0.4680, Loss: 2.5054\n",
      "Epoch   0 Batch   80/269 - Train Accuracy: 0.4623, Validation Accuracy: 0.4778, Loss: 2.3884\n",
      "Epoch   0 Batch   90/269 - Train Accuracy: 0.4172, Validation Accuracy: 0.4745, Loss: 2.5051\n",
      "Epoch   0 Batch  100/269 - Train Accuracy: 0.4825, Validation Accuracy: 0.4856, Loss: 2.2293\n",
      "Epoch   0 Batch  110/269 - Train Accuracy: 0.4596, Validation Accuracy: 0.4868, Loss: 2.2124\n",
      "Epoch   0 Batch  120/269 - Train Accuracy: 0.4537, Validation Accuracy: 0.4982, Loss: 2.2221\n",
      "Epoch   0 Batch  130/269 - Train Accuracy: 0.4481, Validation Accuracy: 0.5033, Loss: 2.1841\n",
      "Epoch   0 Batch  140/269 - Train Accuracy: 0.5002, Validation Accuracy: 0.5167, Loss: 1.9593\n",
      "Epoch   0 Batch  150/269 - Train Accuracy: 0.4954, Validation Accuracy: 0.5146, Loss: 1.8879\n",
      "Epoch   0 Batch  160/269 - Train Accuracy: 0.4948, Validation Accuracy: 0.5131, Loss: 1.8151\n",
      "Epoch   0 Batch  170/269 - Train Accuracy: 0.5032, Validation Accuracy: 0.5241, Loss: 1.7380\n",
      "Epoch   0 Batch  180/269 - Train Accuracy: 0.4990, Validation Accuracy: 0.5194, Loss: 1.6798\n",
      "Epoch   0 Batch  190/269 - Train Accuracy: 0.4836, Validation Accuracy: 0.5082, Loss: 1.6182\n",
      "Epoch   0 Batch  200/269 - Train Accuracy: 0.4567, Validation Accuracy: 0.5012, Loss: 1.6448\n",
      "Epoch   0 Batch  210/269 - Train Accuracy: 0.4746, Validation Accuracy: 0.4972, Loss: 1.5273\n",
      "Epoch   0 Batch  220/269 - Train Accuracy: 0.4893, Validation Accuracy: 0.5033, Loss: 1.4445\n",
      "Epoch   0 Batch  230/269 - Train Accuracy: 0.4643, Validation Accuracy: 0.5027, Loss: 1.4714\n",
      "Epoch   0 Batch  240/269 - Train Accuracy: 0.5039, Validation Accuracy: 0.4894, Loss: 1.3286\n",
      "Epoch   0 Batch  250/269 - Train Accuracy: 0.4648, Validation Accuracy: 0.4982, Loss: 1.4291\n",
      "Epoch   0 Batch  260/269 - Train Accuracy: 0.4782, Validation Accuracy: 0.5178, Loss: 1.4141\n",
      "Epoch   1 Batch   10/269 - Train Accuracy: 0.4812, Validation Accuracy: 0.5205, Loss: 1.3232\n",
      "Epoch   1 Batch   20/269 - Train Accuracy: 0.4918, Validation Accuracy: 0.5254, Loss: 1.3021\n",
      "Epoch   1 Batch   30/269 - Train Accuracy: 0.4927, Validation Accuracy: 0.5143, Loss: 1.2157\n",
      "Epoch   1 Batch   40/269 - Train Accuracy: 0.4617, Validation Accuracy: 0.5121, Loss: 1.2381\n",
      "Epoch   1 Batch   50/269 - Train Accuracy: 0.4860, Validation Accuracy: 0.5279, Loss: 1.2214\n",
      "Epoch   1 Batch   60/269 - Train Accuracy: 0.5294, Validation Accuracy: 0.5417, Loss: 1.0967\n",
      "Epoch   1 Batch   70/269 - Train Accuracy: 0.5445, Validation Accuracy: 0.5569, Loss: 1.1135\n",
      "Epoch   1 Batch   80/269 - Train Accuracy: 0.5605, Validation Accuracy: 0.5636, Loss: 1.0606\n",
      "Epoch   1 Batch   90/269 - Train Accuracy: 0.5023, Validation Accuracy: 0.5645, Loss: 1.1256\n",
      "Epoch   1 Batch  100/269 - Train Accuracy: 0.5461, Validation Accuracy: 0.5567, Loss: 1.0187\n",
      "Epoch   1 Batch  110/269 - Train Accuracy: 0.5475, Validation Accuracy: 0.5781, Loss: 1.0101\n",
      "Epoch   1 Batch  120/269 - Train Accuracy: 0.5372, Validation Accuracy: 0.5782, Loss: 1.0273\n",
      "Epoch   1 Batch  130/269 - Train Accuracy: 0.5287, Validation Accuracy: 0.5807, Loss: 1.0252\n",
      "Epoch   1 Batch  140/269 - Train Accuracy: 0.5600, Validation Accuracy: 0.5742, Loss: 0.9570\n",
      "Epoch   1 Batch  150/269 - Train Accuracy: 0.5671, Validation Accuracy: 0.5859, Loss: 0.9396\n",
      "Epoch   1 Batch  160/269 - Train Accuracy: 0.5602, Validation Accuracy: 0.5850, Loss: 0.9172\n",
      "Epoch   1 Batch  170/269 - Train Accuracy: 0.5537, Validation Accuracy: 0.5880, Loss: 0.8858\n",
      "Epoch   1 Batch  180/269 - Train Accuracy: 0.5685, Validation Accuracy: 0.5833, Loss: 0.8604\n",
      "Epoch   1 Batch  190/269 - Train Accuracy: 0.5640, Validation Accuracy: 0.5884, Loss: 0.8404\n",
      "Epoch   1 Batch  200/269 - Train Accuracy: 0.5588, Validation Accuracy: 0.5919, Loss: 0.8693\n",
      "Epoch   1 Batch  210/269 - Train Accuracy: 0.5872, Validation Accuracy: 0.5938, Loss: 0.8132\n",
      "Epoch   1 Batch  220/269 - Train Accuracy: 0.5780, Validation Accuracy: 0.5818, Loss: 0.7979\n",
      "Epoch   1 Batch  230/269 - Train Accuracy: 0.5697, Validation Accuracy: 0.5911, Loss: 0.8137\n",
      "Epoch   1 Batch  240/269 - Train Accuracy: 0.6247, Validation Accuracy: 0.6031, Loss: 0.7290\n",
      "Epoch   1 Batch  250/269 - Train Accuracy: 0.5796, Validation Accuracy: 0.6104, Loss: 0.8045\n",
      "Epoch   1 Batch  260/269 - Train Accuracy: 0.5862, Validation Accuracy: 0.6085, Loss: 0.8045\n",
      "Epoch   2 Batch   10/269 - Train Accuracy: 0.5953, Validation Accuracy: 0.6105, Loss: 0.7640\n",
      "Epoch   2 Batch   20/269 - Train Accuracy: 0.5992, Validation Accuracy: 0.6093, Loss: 0.7661\n",
      "Epoch   2 Batch   30/269 - Train Accuracy: 0.6090, Validation Accuracy: 0.6085, Loss: 0.7220\n",
      "Epoch   2 Batch   40/269 - Train Accuracy: 0.5926, Validation Accuracy: 0.6090, Loss: 0.7532\n",
      "Epoch   2 Batch   50/269 - Train Accuracy: 0.5979, Validation Accuracy: 0.6030, Loss: 0.7444\n",
      "Epoch   2 Batch   60/269 - Train Accuracy: 0.6226, Validation Accuracy: 0.6064, Loss: 0.6791\n",
      "Epoch   2 Batch   70/269 - Train Accuracy: 0.6178, Validation Accuracy: 0.6034, Loss: 0.7059\n",
      "Epoch   2 Batch   80/269 - Train Accuracy: 0.6184, Validation Accuracy: 0.6105, Loss: 0.6846\n",
      "Epoch   2 Batch   90/269 - Train Accuracy: 0.5778, Validation Accuracy: 0.6121, Loss: 0.7264\n",
      "Epoch   2 Batch  100/269 - Train Accuracy: 0.6276, Validation Accuracy: 0.6151, Loss: 0.6696\n",
      "Epoch   2 Batch  110/269 - Train Accuracy: 0.6192, Validation Accuracy: 0.6107, Loss: 0.6614\n",
      "Epoch   2 Batch  120/269 - Train Accuracy: 0.6065, Validation Accuracy: 0.6192, Loss: 0.6842\n",
      "Epoch   2 Batch  130/269 - Train Accuracy: 0.6068, Validation Accuracy: 0.6292, Loss: 0.6907\n",
      "Epoch   2 Batch  140/269 - Train Accuracy: 0.6358, Validation Accuracy: 0.6314, Loss: 0.6652\n",
      "Epoch   2 Batch  150/269 - Train Accuracy: 0.6322, Validation Accuracy: 0.6293, Loss: 0.6503\n",
      "Epoch   2 Batch  160/269 - Train Accuracy: 0.6325, Validation Accuracy: 0.6396, Loss: 0.6362\n",
      "Epoch   2 Batch  170/269 - Train Accuracy: 0.6346, Validation Accuracy: 0.6308, Loss: 0.6279\n",
      "Epoch   2 Batch  180/269 - Train Accuracy: 0.6321, Validation Accuracy: 0.6381, Loss: 0.6247\n",
      "Epoch   2 Batch  190/269 - Train Accuracy: 0.6243, Validation Accuracy: 0.6444, Loss: 0.6046\n",
      "Epoch   2 Batch  200/269 - Train Accuracy: 0.6295, Validation Accuracy: 0.6425, Loss: 0.6311\n",
      "Epoch   2 Batch  210/269 - Train Accuracy: 0.6516, Validation Accuracy: 0.6499, Loss: 0.5938\n",
      "Epoch   2 Batch  220/269 - Train Accuracy: 0.6580, Validation Accuracy: 0.6523, Loss: 0.5680\n",
      "Epoch   2 Batch  230/269 - Train Accuracy: 0.6421, Validation Accuracy: 0.6519, Loss: 0.5955\n",
      "Epoch   2 Batch  240/269 - Train Accuracy: 0.6755, Validation Accuracy: 0.6480, Loss: 0.5355\n",
      "Epoch   2 Batch  250/269 - Train Accuracy: 0.6587, Validation Accuracy: 0.6613, Loss: 0.6010\n",
      "Epoch   2 Batch  260/269 - Train Accuracy: 0.6357, Validation Accuracy: 0.6570, Loss: 0.6022\n",
      "Epoch   3 Batch   10/269 - Train Accuracy: 0.6191, Validation Accuracy: 0.6447, Loss: 0.6440\n",
      "Epoch   3 Batch   20/269 - Train Accuracy: 0.6326, Validation Accuracy: 0.6569, Loss: 0.6022\n",
      "Epoch   3 Batch   30/269 - Train Accuracy: 0.6587, Validation Accuracy: 0.6642, Loss: 0.5583\n",
      "Epoch   3 Batch   40/269 - Train Accuracy: 0.6331, Validation Accuracy: 0.6629, Loss: 0.5795\n",
      "Epoch   3 Batch   50/269 - Train Accuracy: 0.6399, Validation Accuracy: 0.6663, Loss: 0.5644\n",
      "Epoch   3 Batch   60/269 - Train Accuracy: 0.6615, Validation Accuracy: 0.6647, Loss: 0.5159\n",
      "Epoch   3 Batch   70/269 - Train Accuracy: 0.6642, Validation Accuracy: 0.6719, Loss: 0.5426\n",
      "Epoch   3 Batch   80/269 - Train Accuracy: 0.6709, Validation Accuracy: 0.6816, Loss: 0.5292\n",
      "Epoch   3 Batch   90/269 - Train Accuracy: 0.6232, Validation Accuracy: 0.6657, Loss: 0.5616\n",
      "Epoch   3 Batch  100/269 - Train Accuracy: 0.6868, Validation Accuracy: 0.6774, Loss: 0.5179\n",
      "Epoch   3 Batch  110/269 - Train Accuracy: 0.6736, Validation Accuracy: 0.6756, Loss: 0.5104\n"
     ]
    },
    {
     "name": "stdout",
     "output_type": "stream",
     "text": [
      "Epoch   3 Batch  120/269 - Train Accuracy: 0.6405, Validation Accuracy: 0.6792, Loss: 0.5282\n",
      "Epoch   3 Batch  130/269 - Train Accuracy: 0.6479, Validation Accuracy: 0.6755, Loss: 0.5331\n",
      "Epoch   3 Batch  140/269 - Train Accuracy: 0.6597, Validation Accuracy: 0.6794, Loss: 0.5117\n",
      "Epoch   3 Batch  150/269 - Train Accuracy: 0.6790, Validation Accuracy: 0.6837, Loss: 0.4982\n",
      "Epoch   3 Batch  160/269 - Train Accuracy: 0.6782, Validation Accuracy: 0.6893, Loss: 0.4957\n",
      "Epoch   3 Batch  170/269 - Train Accuracy: 0.6667, Validation Accuracy: 0.6876, Loss: 0.4899\n",
      "Epoch   3 Batch  180/269 - Train Accuracy: 0.6835, Validation Accuracy: 0.6929, Loss: 0.4799\n",
      "Epoch   3 Batch  190/269 - Train Accuracy: 0.6793, Validation Accuracy: 0.6942, Loss: 0.4669\n",
      "Epoch   3 Batch  200/269 - Train Accuracy: 0.6749, Validation Accuracy: 0.6958, Loss: 0.4905\n",
      "Epoch   3 Batch  210/269 - Train Accuracy: 0.6895, Validation Accuracy: 0.6825, Loss: 0.4577\n",
      "Epoch   3 Batch  220/269 - Train Accuracy: 0.6938, Validation Accuracy: 0.6879, Loss: 0.4351\n",
      "Epoch   3 Batch  230/269 - Train Accuracy: 0.6947, Validation Accuracy: 0.6989, Loss: 0.4524\n",
      "Epoch   3 Batch  240/269 - Train Accuracy: 0.7248, Validation Accuracy: 0.7051, Loss: 0.4078\n",
      "Epoch   3 Batch  250/269 - Train Accuracy: 0.6842, Validation Accuracy: 0.6999, Loss: 0.4628\n",
      "Epoch   3 Batch  260/269 - Train Accuracy: 0.6794, Validation Accuracy: 0.7064, Loss: 0.4625\n",
      "Epoch   4 Batch   10/269 - Train Accuracy: 0.6908, Validation Accuracy: 0.7090, Loss: 0.4395\n",
      "Epoch   4 Batch   20/269 - Train Accuracy: 0.7045, Validation Accuracy: 0.7187, Loss: 0.4312\n",
      "Epoch   4 Batch   30/269 - Train Accuracy: 0.7201, Validation Accuracy: 0.7090, Loss: 0.4227\n",
      "Epoch   4 Batch   40/269 - Train Accuracy: 0.6896, Validation Accuracy: 0.7117, Loss: 0.4301\n",
      "Epoch   4 Batch   50/269 - Train Accuracy: 0.6857, Validation Accuracy: 0.7227, Loss: 0.4258\n",
      "Epoch   4 Batch   60/269 - Train Accuracy: 0.7211, Validation Accuracy: 0.7234, Loss: 0.3908\n",
      "Epoch   4 Batch   70/269 - Train Accuracy: 0.7294, Validation Accuracy: 0.7232, Loss: 0.4091\n",
      "Epoch   4 Batch   80/269 - Train Accuracy: 0.7303, Validation Accuracy: 0.7351, Loss: 0.3987\n",
      "Epoch   4 Batch   90/269 - Train Accuracy: 0.6994, Validation Accuracy: 0.7236, Loss: 0.4147\n",
      "Epoch   4 Batch  100/269 - Train Accuracy: 0.7460, Validation Accuracy: 0.7363, Loss: 0.3834\n",
      "Epoch   4 Batch  110/269 - Train Accuracy: 0.7393, Validation Accuracy: 0.7306, Loss: 0.3839\n",
      "Epoch   4 Batch  120/269 - Train Accuracy: 0.7251, Validation Accuracy: 0.7399, Loss: 0.3953\n",
      "Epoch   4 Batch  130/269 - Train Accuracy: 0.7269, Validation Accuracy: 0.7381, Loss: 0.4018\n",
      "Epoch   4 Batch  140/269 - Train Accuracy: 0.7340, Validation Accuracy: 0.7400, Loss: 0.3812\n",
      "Epoch   4 Batch  150/269 - Train Accuracy: 0.7495, Validation Accuracy: 0.7489, Loss: 0.3678\n",
      "Epoch   4 Batch  160/269 - Train Accuracy: 0.7350, Validation Accuracy: 0.7447, Loss: 0.3663\n",
      "Epoch   4 Batch  170/269 - Train Accuracy: 0.7329, Validation Accuracy: 0.7433, Loss: 0.3598\n",
      "Epoch   4 Batch  180/269 - Train Accuracy: 0.7507, Validation Accuracy: 0.7494, Loss: 0.3585\n",
      "Epoch   4 Batch  190/269 - Train Accuracy: 0.7290, Validation Accuracy: 0.7574, Loss: 0.3436\n",
      "Epoch   4 Batch  200/269 - Train Accuracy: 0.7369, Validation Accuracy: 0.7446, Loss: 0.3650\n",
      "Epoch   4 Batch  210/269 - Train Accuracy: 0.7529, Validation Accuracy: 0.7544, Loss: 0.3436\n",
      "Epoch   4 Batch  220/269 - Train Accuracy: 0.7526, Validation Accuracy: 0.7510, Loss: 0.3238\n",
      "Epoch   4 Batch  230/269 - Train Accuracy: 0.7535, Validation Accuracy: 0.7619, Loss: 0.3351\n",
      "Epoch   4 Batch  240/269 - Train Accuracy: 0.7773, Validation Accuracy: 0.7566, Loss: 0.3105\n",
      "Epoch   4 Batch  250/269 - Train Accuracy: 0.7616, Validation Accuracy: 0.7639, Loss: 0.3437\n",
      "Epoch   4 Batch  260/269 - Train Accuracy: 0.7363, Validation Accuracy: 0.7599, Loss: 0.3429\n",
      "Epoch   5 Batch   10/269 - Train Accuracy: 0.7631, Validation Accuracy: 0.7661, Loss: 0.3224\n",
      "Epoch   5 Batch   20/269 - Train Accuracy: 0.7722, Validation Accuracy: 0.7749, Loss: 0.3249\n",
      "Epoch   5 Batch   30/269 - Train Accuracy: 0.7818, Validation Accuracy: 0.7797, Loss: 0.3165\n",
      "Epoch   5 Batch   40/269 - Train Accuracy: 0.7512, Validation Accuracy: 0.7607, Loss: 0.3262\n",
      "Epoch   5 Batch   50/269 - Train Accuracy: 0.7444, Validation Accuracy: 0.7719, Loss: 0.3221\n",
      "Epoch   5 Batch   60/269 - Train Accuracy: 0.7925, Validation Accuracy: 0.7820, Loss: 0.2894\n",
      "Epoch   5 Batch   70/269 - Train Accuracy: 0.7987, Validation Accuracy: 0.7848, Loss: 0.3070\n",
      "Epoch   5 Batch   80/269 - Train Accuracy: 0.7799, Validation Accuracy: 0.7783, Loss: 0.3079\n",
      "Epoch   5 Batch   90/269 - Train Accuracy: 0.7612, Validation Accuracy: 0.7798, Loss: 0.3126\n",
      "Epoch   5 Batch  100/269 - Train Accuracy: 0.8070, Validation Accuracy: 0.7965, Loss: 0.2909\n",
      "Epoch   5 Batch  110/269 - Train Accuracy: 0.7890, Validation Accuracy: 0.8074, Loss: 0.2868\n",
      "Epoch   5 Batch  120/269 - Train Accuracy: 0.8056, Validation Accuracy: 0.8045, Loss: 0.2951\n",
      "Epoch   5 Batch  130/269 - Train Accuracy: 0.7959, Validation Accuracy: 0.7947, Loss: 0.2987\n",
      "Epoch   5 Batch  140/269 - Train Accuracy: 0.8134, Validation Accuracy: 0.7998, Loss: 0.2870\n",
      "Epoch   5 Batch  150/269 - Train Accuracy: 0.8098, Validation Accuracy: 0.8133, Loss: 0.2745\n",
      "Epoch   5 Batch  160/269 - Train Accuracy: 0.8192, Validation Accuracy: 0.8232, Loss: 0.2743\n",
      "Epoch   5 Batch  170/269 - Train Accuracy: 0.8145, Validation Accuracy: 0.8245, Loss: 0.2693\n",
      "Epoch   5 Batch  180/269 - Train Accuracy: 0.8078, Validation Accuracy: 0.7947, Loss: 0.2706\n",
      "Epoch   5 Batch  190/269 - Train Accuracy: 0.8098, Validation Accuracy: 0.8268, Loss: 0.2612\n",
      "Epoch   5 Batch  200/269 - Train Accuracy: 0.8175, Validation Accuracy: 0.8169, Loss: 0.2767\n",
      "Epoch   5 Batch  210/269 - Train Accuracy: 0.8199, Validation Accuracy: 0.8246, Loss: 0.2569\n",
      "Epoch   5 Batch  220/269 - Train Accuracy: 0.8443, Validation Accuracy: 0.8350, Loss: 0.2435\n",
      "Epoch   5 Batch  230/269 - Train Accuracy: 0.8384, Validation Accuracy: 0.8374, Loss: 0.2478\n",
      "Epoch   5 Batch  240/269 - Train Accuracy: 0.8485, Validation Accuracy: 0.8328, Loss: 0.2368\n",
      "Epoch   5 Batch  250/269 - Train Accuracy: 0.8352, Validation Accuracy: 0.8391, Loss: 0.2599\n",
      "Epoch   5 Batch  260/269 - Train Accuracy: 0.8238, Validation Accuracy: 0.8415, Loss: 0.2659\n",
      "Epoch   6 Batch   10/269 - Train Accuracy: 0.8491, Validation Accuracy: 0.8399, Loss: 0.2456\n",
      "Epoch   6 Batch   20/269 - Train Accuracy: 0.8377, Validation Accuracy: 0.8575, Loss: 0.2369\n",
      "Epoch   6 Batch   30/269 - Train Accuracy: 0.8530, Validation Accuracy: 0.8504, Loss: 0.2344\n",
      "Epoch   6 Batch   40/269 - Train Accuracy: 0.8501, Validation Accuracy: 0.8537, Loss: 0.2450\n",
      "Epoch   6 Batch   50/269 - Train Accuracy: 0.8304, Validation Accuracy: 0.8491, Loss: 0.2422\n",
      "Epoch   6 Batch   60/269 - Train Accuracy: 0.8515, Validation Accuracy: 0.8581, Loss: 0.2119\n",
      "Epoch   6 Batch   70/269 - Train Accuracy: 0.8616, Validation Accuracy: 0.8512, Loss: 0.2276\n",
      "Epoch   6 Batch   80/269 - Train Accuracy: 0.8640, Validation Accuracy: 0.8417, Loss: 0.2200\n",
      "Epoch   6 Batch   90/269 - Train Accuracy: 0.8365, Validation Accuracy: 0.8543, Loss: 0.2312\n",
      "Epoch   6 Batch  100/269 - Train Accuracy: 0.8670, Validation Accuracy: 0.8592, Loss: 0.2121\n",
      "Epoch   6 Batch  110/269 - Train Accuracy: 0.8605, Validation Accuracy: 0.8695, Loss: 0.2074\n",
      "Epoch   6 Batch  120/269 - Train Accuracy: 0.8587, Validation Accuracy: 0.8593, Loss: 0.2207\n",
      "Epoch   6 Batch  130/269 - Train Accuracy: 0.8725, Validation Accuracy: 0.8675, Loss: 0.2234\n",
      "Epoch   6 Batch  140/269 - Train Accuracy: 0.8625, Validation Accuracy: 0.8667, Loss: 0.2141\n",
      "Epoch   6 Batch  150/269 - Train Accuracy: 0.8603, Validation Accuracy: 0.8609, Loss: 0.2074\n",
      "Epoch   6 Batch  160/269 - Train Accuracy: 0.8711, Validation Accuracy: 0.8651, Loss: 0.2034\n",
      "Epoch   6 Batch  170/269 - Train Accuracy: 0.8608, Validation Accuracy: 0.8668, Loss: 0.2003\n",
      "Epoch   6 Batch  180/269 - Train Accuracy: 0.8935, Validation Accuracy: 0.8670, Loss: 0.1984\n",
      "Epoch   6 Batch  190/269 - Train Accuracy: 0.8723, Validation Accuracy: 0.8723, Loss: 0.1908\n",
      "Epoch   6 Batch  200/269 - Train Accuracy: 0.8822, Validation Accuracy: 0.8728, Loss: 0.2002\n",
      "Epoch   6 Batch  210/269 - Train Accuracy: 0.8670, Validation Accuracy: 0.8720, Loss: 0.1822\n",
      "Epoch   6 Batch  220/269 - Train Accuracy: 0.8824, Validation Accuracy: 0.8825, Loss: 0.1786\n"
     ]
    },
    {
     "name": "stdout",
     "output_type": "stream",
     "text": [
      "Epoch   6 Batch  230/269 - Train Accuracy: 0.8859, Validation Accuracy: 0.8689, Loss: 0.1853\n",
      "Epoch   6 Batch  240/269 - Train Accuracy: 0.8873, Validation Accuracy: 0.8775, Loss: 0.1704\n",
      "Epoch   6 Batch  250/269 - Train Accuracy: 0.8826, Validation Accuracy: 0.8730, Loss: 0.1868\n",
      "Epoch   6 Batch  260/269 - Train Accuracy: 0.8670, Validation Accuracy: 0.8677, Loss: 0.1858\n",
      "Epoch   7 Batch   10/269 - Train Accuracy: 0.8889, Validation Accuracy: 0.8762, Loss: 0.1790\n",
      "Epoch   7 Batch   20/269 - Train Accuracy: 0.8770, Validation Accuracy: 0.8729, Loss: 0.1697\n",
      "Epoch   7 Batch   30/269 - Train Accuracy: 0.8912, Validation Accuracy: 0.8849, Loss: 0.1701\n",
      "Epoch   7 Batch   40/269 - Train Accuracy: 0.8741, Validation Accuracy: 0.8867, Loss: 0.1807\n",
      "Epoch   7 Batch   50/269 - Train Accuracy: 0.8666, Validation Accuracy: 0.8817, Loss: 0.1808\n",
      "Epoch   7 Batch   60/269 - Train Accuracy: 0.8841, Validation Accuracy: 0.8869, Loss: 0.1511\n",
      "Epoch   7 Batch   70/269 - Train Accuracy: 0.8883, Validation Accuracy: 0.8873, Loss: 0.1679\n",
      "Epoch   7 Batch   80/269 - Train Accuracy: 0.8922, Validation Accuracy: 0.8855, Loss: 0.1575\n",
      "Epoch   7 Batch   90/269 - Train Accuracy: 0.8819, Validation Accuracy: 0.8857, Loss: 0.1716\n",
      "Epoch   7 Batch  100/269 - Train Accuracy: 0.8978, Validation Accuracy: 0.8879, Loss: 0.1501\n",
      "Epoch   7 Batch  110/269 - Train Accuracy: 0.8887, Validation Accuracy: 0.8863, Loss: 0.1438\n",
      "Epoch   7 Batch  120/269 - Train Accuracy: 0.8872, Validation Accuracy: 0.8897, Loss: 0.1533\n",
      "Epoch   7 Batch  130/269 - Train Accuracy: 0.8979, Validation Accuracy: 0.8831, Loss: 0.1518\n",
      "Epoch   7 Batch  140/269 - Train Accuracy: 0.8885, Validation Accuracy: 0.8957, Loss: 0.1610\n",
      "Epoch   7 Batch  150/269 - Train Accuracy: 0.8868, Validation Accuracy: 0.8950, Loss: 0.1484\n",
      "Epoch   7 Batch  160/269 - Train Accuracy: 0.9007, Validation Accuracy: 0.8991, Loss: 0.1429\n",
      "Epoch   7 Batch  170/269 - Train Accuracy: 0.8854, Validation Accuracy: 0.8929, Loss: 0.1425\n",
      "Epoch   7 Batch  180/269 - Train Accuracy: 0.9119, Validation Accuracy: 0.8950, Loss: 0.1364\n",
      "Epoch   7 Batch  190/269 - Train Accuracy: 0.8916, Validation Accuracy: 0.8880, Loss: 0.1318\n",
      "Epoch   7 Batch  200/269 - Train Accuracy: 0.9031, Validation Accuracy: 0.8981, Loss: 0.1364\n",
      "Epoch   7 Batch  210/269 - Train Accuracy: 0.8930, Validation Accuracy: 0.9055, Loss: 0.1293\n",
      "Epoch   7 Batch  220/269 - Train Accuracy: 0.9062, Validation Accuracy: 0.8999, Loss: 0.1296\n",
      "Epoch   7 Batch  230/269 - Train Accuracy: 0.9129, Validation Accuracy: 0.8966, Loss: 0.1299\n",
      "Epoch   7 Batch  240/269 - Train Accuracy: 0.9080, Validation Accuracy: 0.9023, Loss: 0.1193\n",
      "Epoch   7 Batch  250/269 - Train Accuracy: 0.8952, Validation Accuracy: 0.8980, Loss: 0.1358\n",
      "Epoch   7 Batch  260/269 - Train Accuracy: 0.8838, Validation Accuracy: 0.9001, Loss: 0.1401\n",
      "Epoch   8 Batch   10/269 - Train Accuracy: 0.9073, Validation Accuracy: 0.9015, Loss: 0.1177\n",
      "Epoch   8 Batch   20/269 - Train Accuracy: 0.9063, Validation Accuracy: 0.9078, Loss: 0.1263\n",
      "Epoch   8 Batch   30/269 - Train Accuracy: 0.9087, Validation Accuracy: 0.9055, Loss: 0.1172\n",
      "Epoch   8 Batch   40/269 - Train Accuracy: 0.8923, Validation Accuracy: 0.9056, Loss: 0.1268\n",
      "Epoch   8 Batch   50/269 - Train Accuracy: 0.8844, Validation Accuracy: 0.9062, Loss: 0.1277\n",
      "Epoch   8 Batch   60/269 - Train Accuracy: 0.9076, Validation Accuracy: 0.9139, Loss: 0.1047\n",
      "Epoch   8 Batch   70/269 - Train Accuracy: 0.9142, Validation Accuracy: 0.9116, Loss: 0.1179\n",
      "Epoch   8 Batch   80/269 - Train Accuracy: 0.9171, Validation Accuracy: 0.9134, Loss: 0.1113\n",
      "Epoch   8 Batch   90/269 - Train Accuracy: 0.9048, Validation Accuracy: 0.9079, Loss: 0.1254\n",
      "Epoch   8 Batch  100/269 - Train Accuracy: 0.9191, Validation Accuracy: 0.9047, Loss: 0.1132\n",
      "Epoch   8 Batch  110/269 - Train Accuracy: 0.8977, Validation Accuracy: 0.9028, Loss: 0.1042\n",
      "Epoch   8 Batch  120/269 - Train Accuracy: 0.9033, Validation Accuracy: 0.9078, Loss: 0.1116\n",
      "Epoch   8 Batch  130/269 - Train Accuracy: 0.9074, Validation Accuracy: 0.9034, Loss: 0.1151\n",
      "Epoch   8 Batch  140/269 - Train Accuracy: 0.9011, Validation Accuracy: 0.9147, Loss: 0.1180\n",
      "Epoch   8 Batch  150/269 - Train Accuracy: 0.9041, Validation Accuracy: 0.9192, Loss: 0.1058\n",
      "Epoch   8 Batch  160/269 - Train Accuracy: 0.9144, Validation Accuracy: 0.9124, Loss: 0.1060\n",
      "Epoch   8 Batch  170/269 - Train Accuracy: 0.9029, Validation Accuracy: 0.9102, Loss: 0.0975\n",
      "Epoch   8 Batch  180/269 - Train Accuracy: 0.9210, Validation Accuracy: 0.9153, Loss: 0.0993\n",
      "Epoch   8 Batch  190/269 - Train Accuracy: 0.9141, Validation Accuracy: 0.9167, Loss: 0.0960\n",
      "Epoch   8 Batch  200/269 - Train Accuracy: 0.9063, Validation Accuracy: 0.9224, Loss: 0.1035\n",
      "Epoch   8 Batch  210/269 - Train Accuracy: 0.9057, Validation Accuracy: 0.9205, Loss: 0.0991\n",
      "Epoch   8 Batch  220/269 - Train Accuracy: 0.9150, Validation Accuracy: 0.9142, Loss: 0.0979\n",
      "Epoch   8 Batch  230/269 - Train Accuracy: 0.9227, Validation Accuracy: 0.9168, Loss: 0.0952\n",
      "Epoch   8 Batch  240/269 - Train Accuracy: 0.9203, Validation Accuracy: 0.9182, Loss: 0.0911\n",
      "Epoch   8 Batch  250/269 - Train Accuracy: 0.9145, Validation Accuracy: 0.9206, Loss: 0.1003\n",
      "Epoch   8 Batch  260/269 - Train Accuracy: 0.9074, Validation Accuracy: 0.9149, Loss: 0.1065\n",
      "Epoch   9 Batch   10/269 - Train Accuracy: 0.9172, Validation Accuracy: 0.9205, Loss: 0.0897\n",
      "Epoch   9 Batch   20/269 - Train Accuracy: 0.9170, Validation Accuracy: 0.9179, Loss: 0.0961\n",
      "Epoch   9 Batch   30/269 - Train Accuracy: 0.9215, Validation Accuracy: 0.9231, Loss: 0.0943\n",
      "Epoch   9 Batch   40/269 - Train Accuracy: 0.9116, Validation Accuracy: 0.9219, Loss: 0.1006\n",
      "Epoch   9 Batch   50/269 - Train Accuracy: 0.8932, Validation Accuracy: 0.9225, Loss: 0.1030\n",
      "Epoch   9 Batch   60/269 - Train Accuracy: 0.9297, Validation Accuracy: 0.9270, Loss: 0.0881\n",
      "Epoch   9 Batch   70/269 - Train Accuracy: 0.9225, Validation Accuracy: 0.9219, Loss: 0.0938\n",
      "Epoch   9 Batch   80/269 - Train Accuracy: 0.9186, Validation Accuracy: 0.9265, Loss: 0.0901\n",
      "Epoch   9 Batch   90/269 - Train Accuracy: 0.9214, Validation Accuracy: 0.9210, Loss: 0.1002\n",
      "Epoch   9 Batch  100/269 - Train Accuracy: 0.9285, Validation Accuracy: 0.9186, Loss: 0.0895\n",
      "Epoch   9 Batch  110/269 - Train Accuracy: 0.9214, Validation Accuracy: 0.9173, Loss: 0.0824\n",
      "Epoch   9 Batch  120/269 - Train Accuracy: 0.9243, Validation Accuracy: 0.9259, Loss: 0.0925\n",
      "Epoch   9 Batch  130/269 - Train Accuracy: 0.9175, Validation Accuracy: 0.9260, Loss: 0.0907\n",
      "Epoch   9 Batch  140/269 - Train Accuracy: 0.9140, Validation Accuracy: 0.9280, Loss: 0.0956\n",
      "Epoch   9 Batch  150/269 - Train Accuracy: 0.9102, Validation Accuracy: 0.9288, Loss: 0.0854\n",
      "Epoch   9 Batch  160/269 - Train Accuracy: 0.9184, Validation Accuracy: 0.9238, Loss: 0.0876\n",
      "Epoch   9 Batch  170/269 - Train Accuracy: 0.9210, Validation Accuracy: 0.9267, Loss: 0.0838\n",
      "Epoch   9 Batch  180/269 - Train Accuracy: 0.9321, Validation Accuracy: 0.9260, Loss: 0.0774\n",
      "Epoch   9 Batch  190/269 - Train Accuracy: 0.9258, Validation Accuracy: 0.9322, Loss: 0.0795\n",
      "Epoch   9 Batch  200/269 - Train Accuracy: 0.9205, Validation Accuracy: 0.9318, Loss: 0.0826\n",
      "Epoch   9 Batch  210/269 - Train Accuracy: 0.9191, Validation Accuracy: 0.9284, Loss: 0.0844\n",
      "Epoch   9 Batch  220/269 - Train Accuracy: 0.9159, Validation Accuracy: 0.9314, Loss: 0.0824\n",
      "Epoch   9 Batch  230/269 - Train Accuracy: 0.9244, Validation Accuracy: 0.9307, Loss: 0.0825\n",
      "Epoch   9 Batch  240/269 - Train Accuracy: 0.9386, Validation Accuracy: 0.9241, Loss: 0.0758\n",
      "Epoch   9 Batch  250/269 - Train Accuracy: 0.9223, Validation Accuracy: 0.9298, Loss: 0.0788\n",
      "Epoch   9 Batch  260/269 - Train Accuracy: 0.9186, Validation Accuracy: 0.9300, Loss: 0.0838\n",
      "Model Trained and Saved\n"
     ]
    }
   ],
   "source": [
    "\"\"\"\n",
    "DON'T MODIFY ANYTHING IN THIS CELL\n",
    "\"\"\"\n",
    "def get_accuracy(target, logits):\n",
    "    \"\"\"\n",
    "    Calculate accuracy\n",
    "    \"\"\"\n",
    "    max_seq = max(target.shape[1], logits.shape[1])\n",
    "    if max_seq - target.shape[1]:\n",
    "        target = np.pad(\n",
    "            target,\n",
    "            [(0,0),(0,max_seq - target.shape[1])],\n",
    "            'constant')\n",
    "    if max_seq - logits.shape[1]:\n",
    "        logits = np.pad(\n",
    "            logits,\n",
    "            [(0,0),(0,max_seq - logits.shape[1])],\n",
    "            'constant')\n",
    "\n",
    "    return np.mean(np.equal(target, logits))\n",
    "\n",
    "# Split data to training and validation sets\n",
    "train_source = source_int_text[batch_size:]\n",
    "train_target = target_int_text[batch_size:]\n",
    "valid_source = source_int_text[:batch_size]\n",
    "valid_target = target_int_text[:batch_size]\n",
    "(valid_sources_batch, valid_targets_batch, valid_sources_lengths, valid_targets_lengths ) = next(get_batches(valid_source,\n",
    "                                                                                                             valid_target,\n",
    "                                                                                                             batch_size,\n",
    "                                                                                                             source_vocab_to_int['<PAD>'],\n",
    "                                                                                                             target_vocab_to_int['<PAD>']))                                                                                                  \n",
    "with tf.Session(graph=train_graph) as sess:\n",
    "    sess.run(tf.global_variables_initializer())\n",
    "\n",
    "    for epoch_i in range(epochs):\n",
    "        for batch_i, (source_batch, target_batch, sources_lengths, targets_lengths) in enumerate(\n",
    "                get_batches(train_source, train_target, batch_size,\n",
    "                            source_vocab_to_int['<PAD>'],\n",
    "                            target_vocab_to_int['<PAD>'])):\n",
    "\n",
    "            _, loss = sess.run(\n",
    "                [train_op, cost],\n",
    "                {input_data: source_batch,\n",
    "                 targets: target_batch,\n",
    "                 lr: learning_rate,\n",
    "                 target_sequence_length: targets_lengths,\n",
    "                 source_sequence_length: sources_lengths,\n",
    "                 keep_prob: keep_probability})\n",
    "\n",
    "\n",
    "            if batch_i % display_step == 0 and batch_i > 0:\n",
    "\n",
    "\n",
    "                batch_train_logits = sess.run(\n",
    "                    inference_logits,\n",
    "                    {input_data: source_batch,\n",
    "                     source_sequence_length: sources_lengths,\n",
    "                     target_sequence_length: targets_lengths,\n",
    "                     keep_prob: 1.0})\n",
    "\n",
    "\n",
    "                batch_valid_logits = sess.run(\n",
    "                    inference_logits,\n",
    "                    {input_data: valid_sources_batch,\n",
    "                     source_sequence_length: valid_sources_lengths,\n",
    "                     target_sequence_length: valid_targets_lengths,\n",
    "                     keep_prob: 1.0})\n",
    "\n",
    "                train_acc = get_accuracy(target_batch, batch_train_logits)\n",
    "\n",
    "                valid_acc = get_accuracy(valid_targets_batch, batch_valid_logits)\n",
    "\n",
    "                print('Epoch {:>3} Batch {:>4}/{} - Train Accuracy: {:>6.4f}, Validation Accuracy: {:>6.4f}, Loss: {:>6.4f}'\n",
    "                      .format(epoch_i, batch_i, len(source_int_text) // batch_size, train_acc, valid_acc, loss))\n",
    "\n",
    "    # Save Model\n",
    "    saver = tf.train.Saver()\n",
    "    saver.save(sess, save_path)\n",
    "    print('Model Trained and Saved')"
   ]
  },
  {
   "cell_type": "markdown",
   "metadata": {},
   "source": [
    "### Save Parameters\n",
    "Save the `batch_size` and `save_path` parameters for inference."
   ]
  },
  {
   "cell_type": "code",
   "execution_count": 14,
   "metadata": {
    "collapsed": true
   },
   "outputs": [],
   "source": [
    "\"\"\"\n",
    "DON'T MODIFY ANYTHING IN THIS CELL\n",
    "\"\"\"\n",
    "# Save parameters for checkpoint\n",
    "helper.save_params(save_path)"
   ]
  },
  {
   "cell_type": "markdown",
   "metadata": {},
   "source": [
    "# Checkpoint"
   ]
  },
  {
   "cell_type": "code",
   "execution_count": 15,
   "metadata": {
    "collapsed": true
   },
   "outputs": [],
   "source": [
    "\"\"\"\n",
    "DON'T MODIFY ANYTHING IN THIS CELL.\n",
    "\n",
    "\"\"\"\n",
    "import tensorflow as tf\n",
    "import numpy as np\n",
    "import helper\n",
    "import problem_unittests as tests\n",
    "\n",
    "_, (source_vocab_to_int, target_vocab_to_int), (source_int_to_vocab, target_int_to_vocab) = helper.load_preprocess()\n",
    "load_path = helper.load_params()"
   ]
  },
  {
   "cell_type": "markdown",
   "metadata": {},
   "source": [
    "\n",
    "## Sentence to Sequence\n",
    "To feed a sentence into the model for translation, you first need to preprocess it.  Implement the function `sentence_to_seq()` to preprocess new sentences.\n",
    "\n",
    "- Convert the sentence to lowercase\n",
    "- Convert words into ids using `vocab_to_int`\n",
    " - Convert words not in the vocabulary, to the `<UNK>` word id."
   ]
  },
  {
   "cell_type": "code",
   "execution_count": 16,
   "metadata": {},
   "outputs": [
    {
     "name": "stdout",
     "output_type": "stream",
     "text": [
      "Tests Passed\n"
     ]
    }
   ],
   "source": [
    "def sentence_to_seq(sentence, vocab_to_int):\n",
    "    \"\"\"\n",
    "    Convert a sentence to a sequence of ids\n",
    "    :param sentence: String\n",
    "    :param vocab_to_int: Dictionary to go from the words to an id\n",
    "    :return: List of word ids\n",
    "    \"\"\"\n",
    "    # TODO: Implement Function\n",
    "    unk_int = vocab_to_int['<UNK>']\n",
    "    return [vocab_to_int.get(word, unk_int) for word in sentence.lower().split(' ')]\n",
    "\n",
    "\n",
    "\"\"\"\n",
    "DON'T MODIFY ANYTHING IN THIS CELL THAT IS BELOW THIS LINE\n",
    "\"\"\"\n",
    "tests.test_sentence_to_seq(sentence_to_seq)"
   ]
  },
  {
   "cell_type": "markdown",
   "metadata": {},
   "source": [
    "## Translate\n",
    "This will translate `translate_sentence` from English to French."
   ]
  },
  {
   "cell_type": "code",
   "execution_count": 17,
   "metadata": {},
   "outputs": [
    {
     "name": "stdout",
     "output_type": "stream",
     "text": [
      "INFO:tensorflow:Restoring parameters from checkpoints/dev\n",
      "Input\n",
      "  Word Ids:      [46, 130, 12, 13, 144, 94, 193]\n",
      "  English Words: ['he', 'saw', 'a', 'old', 'yellow', 'truck', '.']\n",
      "\n",
      "Prediction\n",
      "  Word Ids:      [230, 337, 328, 22, 294, 7, 169, 1]\n",
      "  French Words: il vu le gros camion jaune . <EOS>\n"
     ]
    }
   ],
   "source": [
    "translate_sentence = 'he saw a old yellow truck .'\n",
    "\n",
    "\n",
    "\"\"\"\n",
    "DON'T MODIFY ANYTHING IN THIS CELL\n",
    "\"\"\"\n",
    "translate_sentence = sentence_to_seq(translate_sentence, source_vocab_to_int)\n",
    "\n",
    "loaded_graph = tf.Graph()\n",
    "with tf.Session(graph=loaded_graph) as sess:\n",
    "    # Load saved model\n",
    "    loader = tf.train.import_meta_graph(load_path + '.meta')\n",
    "    loader.restore(sess, load_path)\n",
    "\n",
    "    input_data = loaded_graph.get_tensor_by_name('input:0')\n",
    "    logits = loaded_graph.get_tensor_by_name('predictions:0')\n",
    "    target_sequence_length = loaded_graph.get_tensor_by_name('target_sequence_length:0')\n",
    "    source_sequence_length = loaded_graph.get_tensor_by_name('source_sequence_length:0')\n",
    "    keep_prob = loaded_graph.get_tensor_by_name('keep_prob:0')\n",
    "\n",
    "    translate_logits = sess.run(logits, {input_data: [translate_sentence]*batch_size,\n",
    "                                         target_sequence_length: [len(translate_sentence)*2]*batch_size,\n",
    "                                         source_sequence_length: [len(translate_sentence)]*batch_size,\n",
    "                                         keep_prob: 1.0})[0]\n",
    "\n",
    "print('Input')\n",
    "print('  Word Ids:      {}'.format([i for i in translate_sentence]))\n",
    "print('  English Words: {}'.format([source_int_to_vocab[i] for i in translate_sentence]))\n",
    "\n",
    "print('\\nPrediction')\n",
    "print('  Word Ids:      {}'.format([i for i in translate_logits]))\n",
    "print('  French Words: {}'.format(\" \".join([target_int_to_vocab[i] for i in translate_logits])))\n"
   ]
  },
  {
   "cell_type": "markdown",
   "metadata": {},
   "source": [
    "## Imperfect Translation\n",
    "You might notice that some sentences translate better than others.  Since the dataset you're using only has a vocabulary of 227 English words of the thousands that you use, you're only going to see good results using these words.  For this project, you don't need a perfect translation. However, if you want to create a better translation model, you'll need better data.\n",
    "\n",
    "You can train on the [WMT10 French-English corpus](http://www.statmt.org/wmt10/training-giga-fren.tar).  This dataset has more vocabulary and richer in topics discussed.  However, this will take you days to train, so make sure you've a GPU and the neural network is performing well on dataset we provided.  Just make sure you play with the WMT10 corpus after you've submitted this project.\n",
    "## Submitting This Project\n",
    "When submitting this project, make sure to run all the cells before saving the notebook. Save the notebook file as \"dlnd_language_translation.ipynb\" and save it as a HTML file under \"File\" -> \"Download as\". Include the \"helper.py\" and \"problem_unittests.py\" files in your submission."
   ]
  }
 ],
 "metadata": {
  "anaconda-cloud": {},
  "kernelspec": {
   "display_name": "Python 3",
   "language": "python",
   "name": "python3"
  },
  "language_info": {
   "codemirror_mode": {
    "name": "ipython",
    "version": 3
   },
   "file_extension": ".py",
   "mimetype": "text/x-python",
   "name": "python",
   "nbconvert_exporter": "python",
   "pygments_lexer": "ipython3",
   "version": "3.6.2"
  }
 },
 "nbformat": 4,
 "nbformat_minor": 1
}
